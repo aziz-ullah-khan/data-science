{
  "nbformat": 4,
  "nbformat_minor": 0,
  "metadata": {
    "colab": {
      "provenance": []
    },
    "kernelspec": {
      "name": "python3",
      "display_name": "Python 3"
    },
    "language_info": {
      "name": "python"
    },
    "accelerator": "GPU",
    "gpuClass": "standard",
    "widgets": {
      "application/vnd.jupyter.widget-state+json": {
        "e33c9aae04f1455ba06d238c269a3ae3": {
          "model_module": "@jupyter-widgets/controls",
          "model_name": "HBoxModel",
          "model_module_version": "1.5.0",
          "state": {
            "_dom_classes": [],
            "_model_module": "@jupyter-widgets/controls",
            "_model_module_version": "1.5.0",
            "_model_name": "HBoxModel",
            "_view_count": null,
            "_view_module": "@jupyter-widgets/controls",
            "_view_module_version": "1.5.0",
            "_view_name": "HBoxView",
            "box_style": "",
            "children": [
              "IPY_MODEL_6378052d422041038db5ceb3c2bb9726",
              "IPY_MODEL_b34c905acf05464a8edd9661702a07b1",
              "IPY_MODEL_3f85d44aab8b407899aff32cda61dba3"
            ],
            "layout": "IPY_MODEL_77498790809141f4a8d1479139c11b73"
          }
        },
        "6378052d422041038db5ceb3c2bb9726": {
          "model_module": "@jupyter-widgets/controls",
          "model_name": "HTMLModel",
          "model_module_version": "1.5.0",
          "state": {
            "_dom_classes": [],
            "_model_module": "@jupyter-widgets/controls",
            "_model_module_version": "1.5.0",
            "_model_name": "HTMLModel",
            "_view_count": null,
            "_view_module": "@jupyter-widgets/controls",
            "_view_module_version": "1.5.0",
            "_view_name": "HTMLView",
            "description": "",
            "description_tooltip": null,
            "layout": "IPY_MODEL_5eb2167f8c61460ba9dec07f6121c8de",
            "placeholder": "​",
            "style": "IPY_MODEL_c07e98623c01424fbd4ca7f67b92fd27",
            "value": "Map: 100%"
          }
        },
        "b34c905acf05464a8edd9661702a07b1": {
          "model_module": "@jupyter-widgets/controls",
          "model_name": "FloatProgressModel",
          "model_module_version": "1.5.0",
          "state": {
            "_dom_classes": [],
            "_model_module": "@jupyter-widgets/controls",
            "_model_module_version": "1.5.0",
            "_model_name": "FloatProgressModel",
            "_view_count": null,
            "_view_module": "@jupyter-widgets/controls",
            "_view_module_version": "1.5.0",
            "_view_name": "ProgressView",
            "bar_style": "",
            "description": "",
            "description_tooltip": null,
            "layout": "IPY_MODEL_176cddc7ccf946feb3d7a8cd9fb047b5",
            "max": 989,
            "min": 0,
            "orientation": "horizontal",
            "style": "IPY_MODEL_728dfd4619b74552bd0fdf07a645fa92",
            "value": 989
          }
        },
        "3f85d44aab8b407899aff32cda61dba3": {
          "model_module": "@jupyter-widgets/controls",
          "model_name": "HTMLModel",
          "model_module_version": "1.5.0",
          "state": {
            "_dom_classes": [],
            "_model_module": "@jupyter-widgets/controls",
            "_model_module_version": "1.5.0",
            "_model_name": "HTMLModel",
            "_view_count": null,
            "_view_module": "@jupyter-widgets/controls",
            "_view_module_version": "1.5.0",
            "_view_name": "HTMLView",
            "description": "",
            "description_tooltip": null,
            "layout": "IPY_MODEL_ff13815a7a56437085bafce3f145ab10",
            "placeholder": "​",
            "style": "IPY_MODEL_65144cade2a3444fa371acaf0c0b100f",
            "value": " 989/989 [00:24&lt;00:00, 40.76 examples/s]"
          }
        },
        "77498790809141f4a8d1479139c11b73": {
          "model_module": "@jupyter-widgets/base",
          "model_name": "LayoutModel",
          "model_module_version": "1.2.0",
          "state": {
            "_model_module": "@jupyter-widgets/base",
            "_model_module_version": "1.2.0",
            "_model_name": "LayoutModel",
            "_view_count": null,
            "_view_module": "@jupyter-widgets/base",
            "_view_module_version": "1.2.0",
            "_view_name": "LayoutView",
            "align_content": null,
            "align_items": null,
            "align_self": null,
            "border": null,
            "bottom": null,
            "display": null,
            "flex": null,
            "flex_flow": null,
            "grid_area": null,
            "grid_auto_columns": null,
            "grid_auto_flow": null,
            "grid_auto_rows": null,
            "grid_column": null,
            "grid_gap": null,
            "grid_row": null,
            "grid_template_areas": null,
            "grid_template_columns": null,
            "grid_template_rows": null,
            "height": null,
            "justify_content": null,
            "justify_items": null,
            "left": null,
            "margin": null,
            "max_height": null,
            "max_width": null,
            "min_height": null,
            "min_width": null,
            "object_fit": null,
            "object_position": null,
            "order": null,
            "overflow": null,
            "overflow_x": null,
            "overflow_y": null,
            "padding": null,
            "right": null,
            "top": null,
            "visibility": "hidden",
            "width": null
          }
        },
        "5eb2167f8c61460ba9dec07f6121c8de": {
          "model_module": "@jupyter-widgets/base",
          "model_name": "LayoutModel",
          "model_module_version": "1.2.0",
          "state": {
            "_model_module": "@jupyter-widgets/base",
            "_model_module_version": "1.2.0",
            "_model_name": "LayoutModel",
            "_view_count": null,
            "_view_module": "@jupyter-widgets/base",
            "_view_module_version": "1.2.0",
            "_view_name": "LayoutView",
            "align_content": null,
            "align_items": null,
            "align_self": null,
            "border": null,
            "bottom": null,
            "display": null,
            "flex": null,
            "flex_flow": null,
            "grid_area": null,
            "grid_auto_columns": null,
            "grid_auto_flow": null,
            "grid_auto_rows": null,
            "grid_column": null,
            "grid_gap": null,
            "grid_row": null,
            "grid_template_areas": null,
            "grid_template_columns": null,
            "grid_template_rows": null,
            "height": null,
            "justify_content": null,
            "justify_items": null,
            "left": null,
            "margin": null,
            "max_height": null,
            "max_width": null,
            "min_height": null,
            "min_width": null,
            "object_fit": null,
            "object_position": null,
            "order": null,
            "overflow": null,
            "overflow_x": null,
            "overflow_y": null,
            "padding": null,
            "right": null,
            "top": null,
            "visibility": null,
            "width": null
          }
        },
        "c07e98623c01424fbd4ca7f67b92fd27": {
          "model_module": "@jupyter-widgets/controls",
          "model_name": "DescriptionStyleModel",
          "model_module_version": "1.5.0",
          "state": {
            "_model_module": "@jupyter-widgets/controls",
            "_model_module_version": "1.5.0",
            "_model_name": "DescriptionStyleModel",
            "_view_count": null,
            "_view_module": "@jupyter-widgets/base",
            "_view_module_version": "1.2.0",
            "_view_name": "StyleView",
            "description_width": ""
          }
        },
        "176cddc7ccf946feb3d7a8cd9fb047b5": {
          "model_module": "@jupyter-widgets/base",
          "model_name": "LayoutModel",
          "model_module_version": "1.2.0",
          "state": {
            "_model_module": "@jupyter-widgets/base",
            "_model_module_version": "1.2.0",
            "_model_name": "LayoutModel",
            "_view_count": null,
            "_view_module": "@jupyter-widgets/base",
            "_view_module_version": "1.2.0",
            "_view_name": "LayoutView",
            "align_content": null,
            "align_items": null,
            "align_self": null,
            "border": null,
            "bottom": null,
            "display": null,
            "flex": null,
            "flex_flow": null,
            "grid_area": null,
            "grid_auto_columns": null,
            "grid_auto_flow": null,
            "grid_auto_rows": null,
            "grid_column": null,
            "grid_gap": null,
            "grid_row": null,
            "grid_template_areas": null,
            "grid_template_columns": null,
            "grid_template_rows": null,
            "height": null,
            "justify_content": null,
            "justify_items": null,
            "left": null,
            "margin": null,
            "max_height": null,
            "max_width": null,
            "min_height": null,
            "min_width": null,
            "object_fit": null,
            "object_position": null,
            "order": null,
            "overflow": null,
            "overflow_x": null,
            "overflow_y": null,
            "padding": null,
            "right": null,
            "top": null,
            "visibility": null,
            "width": null
          }
        },
        "728dfd4619b74552bd0fdf07a645fa92": {
          "model_module": "@jupyter-widgets/controls",
          "model_name": "ProgressStyleModel",
          "model_module_version": "1.5.0",
          "state": {
            "_model_module": "@jupyter-widgets/controls",
            "_model_module_version": "1.5.0",
            "_model_name": "ProgressStyleModel",
            "_view_count": null,
            "_view_module": "@jupyter-widgets/base",
            "_view_module_version": "1.2.0",
            "_view_name": "StyleView",
            "bar_color": null,
            "description_width": ""
          }
        },
        "ff13815a7a56437085bafce3f145ab10": {
          "model_module": "@jupyter-widgets/base",
          "model_name": "LayoutModel",
          "model_module_version": "1.2.0",
          "state": {
            "_model_module": "@jupyter-widgets/base",
            "_model_module_version": "1.2.0",
            "_model_name": "LayoutModel",
            "_view_count": null,
            "_view_module": "@jupyter-widgets/base",
            "_view_module_version": "1.2.0",
            "_view_name": "LayoutView",
            "align_content": null,
            "align_items": null,
            "align_self": null,
            "border": null,
            "bottom": null,
            "display": null,
            "flex": null,
            "flex_flow": null,
            "grid_area": null,
            "grid_auto_columns": null,
            "grid_auto_flow": null,
            "grid_auto_rows": null,
            "grid_column": null,
            "grid_gap": null,
            "grid_row": null,
            "grid_template_areas": null,
            "grid_template_columns": null,
            "grid_template_rows": null,
            "height": null,
            "justify_content": null,
            "justify_items": null,
            "left": null,
            "margin": null,
            "max_height": null,
            "max_width": null,
            "min_height": null,
            "min_width": null,
            "object_fit": null,
            "object_position": null,
            "order": null,
            "overflow": null,
            "overflow_x": null,
            "overflow_y": null,
            "padding": null,
            "right": null,
            "top": null,
            "visibility": null,
            "width": null
          }
        },
        "65144cade2a3444fa371acaf0c0b100f": {
          "model_module": "@jupyter-widgets/controls",
          "model_name": "DescriptionStyleModel",
          "model_module_version": "1.5.0",
          "state": {
            "_model_module": "@jupyter-widgets/controls",
            "_model_module_version": "1.5.0",
            "_model_name": "DescriptionStyleModel",
            "_view_count": null,
            "_view_module": "@jupyter-widgets/base",
            "_view_module_version": "1.2.0",
            "_view_name": "StyleView",
            "description_width": ""
          }
        },
        "5896e392c4254935bfe95d760849ea91": {
          "model_module": "@jupyter-widgets/controls",
          "model_name": "HBoxModel",
          "model_module_version": "1.5.0",
          "state": {
            "_dom_classes": [],
            "_model_module": "@jupyter-widgets/controls",
            "_model_module_version": "1.5.0",
            "_model_name": "HBoxModel",
            "_view_count": null,
            "_view_module": "@jupyter-widgets/controls",
            "_view_module_version": "1.5.0",
            "_view_name": "HBoxView",
            "box_style": "",
            "children": [
              "IPY_MODEL_1a6782529c0046229b712161b83cf376",
              "IPY_MODEL_923f516f9d2c44bfbfb6d9a872eae9c2",
              "IPY_MODEL_deddfff1a8fb45d68fefa059578aab52"
            ],
            "layout": "IPY_MODEL_ab664daa09604a8397865727c261098b"
          }
        },
        "1a6782529c0046229b712161b83cf376": {
          "model_module": "@jupyter-widgets/controls",
          "model_name": "HTMLModel",
          "model_module_version": "1.5.0",
          "state": {
            "_dom_classes": [],
            "_model_module": "@jupyter-widgets/controls",
            "_model_module_version": "1.5.0",
            "_model_name": "HTMLModel",
            "_view_count": null,
            "_view_module": "@jupyter-widgets/controls",
            "_view_module_version": "1.5.0",
            "_view_name": "HTMLView",
            "description": "",
            "description_tooltip": null,
            "layout": "IPY_MODEL_84b86956f60548aeb09cf17b3ccdab5d",
            "placeholder": "​",
            "style": "IPY_MODEL_1aa29c02580e4975a1f9cb4534bdedaf",
            "value": "Map: 100%"
          }
        },
        "923f516f9d2c44bfbfb6d9a872eae9c2": {
          "model_module": "@jupyter-widgets/controls",
          "model_name": "FloatProgressModel",
          "model_module_version": "1.5.0",
          "state": {
            "_dom_classes": [],
            "_model_module": "@jupyter-widgets/controls",
            "_model_module_version": "1.5.0",
            "_model_name": "FloatProgressModel",
            "_view_count": null,
            "_view_module": "@jupyter-widgets/controls",
            "_view_module_version": "1.5.0",
            "_view_name": "ProgressView",
            "bar_style": "",
            "description": "",
            "description_tooltip": null,
            "layout": "IPY_MODEL_abd9ed56d41b4e7a9f83741cf1c901a4",
            "max": 248,
            "min": 0,
            "orientation": "horizontal",
            "style": "IPY_MODEL_7dfa826d5d66441fb279345ac007c1b6",
            "value": 248
          }
        },
        "deddfff1a8fb45d68fefa059578aab52": {
          "model_module": "@jupyter-widgets/controls",
          "model_name": "HTMLModel",
          "model_module_version": "1.5.0",
          "state": {
            "_dom_classes": [],
            "_model_module": "@jupyter-widgets/controls",
            "_model_module_version": "1.5.0",
            "_model_name": "HTMLModel",
            "_view_count": null,
            "_view_module": "@jupyter-widgets/controls",
            "_view_module_version": "1.5.0",
            "_view_name": "HTMLView",
            "description": "",
            "description_tooltip": null,
            "layout": "IPY_MODEL_faef24eb028546d8bec11435f6cf2c85",
            "placeholder": "​",
            "style": "IPY_MODEL_7b41ba9cf6734150a724049bc221f3cb",
            "value": " 248/248 [00:07&lt;00:00, 31.23 examples/s]"
          }
        },
        "ab664daa09604a8397865727c261098b": {
          "model_module": "@jupyter-widgets/base",
          "model_name": "LayoutModel",
          "model_module_version": "1.2.0",
          "state": {
            "_model_module": "@jupyter-widgets/base",
            "_model_module_version": "1.2.0",
            "_model_name": "LayoutModel",
            "_view_count": null,
            "_view_module": "@jupyter-widgets/base",
            "_view_module_version": "1.2.0",
            "_view_name": "LayoutView",
            "align_content": null,
            "align_items": null,
            "align_self": null,
            "border": null,
            "bottom": null,
            "display": null,
            "flex": null,
            "flex_flow": null,
            "grid_area": null,
            "grid_auto_columns": null,
            "grid_auto_flow": null,
            "grid_auto_rows": null,
            "grid_column": null,
            "grid_gap": null,
            "grid_row": null,
            "grid_template_areas": null,
            "grid_template_columns": null,
            "grid_template_rows": null,
            "height": null,
            "justify_content": null,
            "justify_items": null,
            "left": null,
            "margin": null,
            "max_height": null,
            "max_width": null,
            "min_height": null,
            "min_width": null,
            "object_fit": null,
            "object_position": null,
            "order": null,
            "overflow": null,
            "overflow_x": null,
            "overflow_y": null,
            "padding": null,
            "right": null,
            "top": null,
            "visibility": "hidden",
            "width": null
          }
        },
        "84b86956f60548aeb09cf17b3ccdab5d": {
          "model_module": "@jupyter-widgets/base",
          "model_name": "LayoutModel",
          "model_module_version": "1.2.0",
          "state": {
            "_model_module": "@jupyter-widgets/base",
            "_model_module_version": "1.2.0",
            "_model_name": "LayoutModel",
            "_view_count": null,
            "_view_module": "@jupyter-widgets/base",
            "_view_module_version": "1.2.0",
            "_view_name": "LayoutView",
            "align_content": null,
            "align_items": null,
            "align_self": null,
            "border": null,
            "bottom": null,
            "display": null,
            "flex": null,
            "flex_flow": null,
            "grid_area": null,
            "grid_auto_columns": null,
            "grid_auto_flow": null,
            "grid_auto_rows": null,
            "grid_column": null,
            "grid_gap": null,
            "grid_row": null,
            "grid_template_areas": null,
            "grid_template_columns": null,
            "grid_template_rows": null,
            "height": null,
            "justify_content": null,
            "justify_items": null,
            "left": null,
            "margin": null,
            "max_height": null,
            "max_width": null,
            "min_height": null,
            "min_width": null,
            "object_fit": null,
            "object_position": null,
            "order": null,
            "overflow": null,
            "overflow_x": null,
            "overflow_y": null,
            "padding": null,
            "right": null,
            "top": null,
            "visibility": null,
            "width": null
          }
        },
        "1aa29c02580e4975a1f9cb4534bdedaf": {
          "model_module": "@jupyter-widgets/controls",
          "model_name": "DescriptionStyleModel",
          "model_module_version": "1.5.0",
          "state": {
            "_model_module": "@jupyter-widgets/controls",
            "_model_module_version": "1.5.0",
            "_model_name": "DescriptionStyleModel",
            "_view_count": null,
            "_view_module": "@jupyter-widgets/base",
            "_view_module_version": "1.2.0",
            "_view_name": "StyleView",
            "description_width": ""
          }
        },
        "abd9ed56d41b4e7a9f83741cf1c901a4": {
          "model_module": "@jupyter-widgets/base",
          "model_name": "LayoutModel",
          "model_module_version": "1.2.0",
          "state": {
            "_model_module": "@jupyter-widgets/base",
            "_model_module_version": "1.2.0",
            "_model_name": "LayoutModel",
            "_view_count": null,
            "_view_module": "@jupyter-widgets/base",
            "_view_module_version": "1.2.0",
            "_view_name": "LayoutView",
            "align_content": null,
            "align_items": null,
            "align_self": null,
            "border": null,
            "bottom": null,
            "display": null,
            "flex": null,
            "flex_flow": null,
            "grid_area": null,
            "grid_auto_columns": null,
            "grid_auto_flow": null,
            "grid_auto_rows": null,
            "grid_column": null,
            "grid_gap": null,
            "grid_row": null,
            "grid_template_areas": null,
            "grid_template_columns": null,
            "grid_template_rows": null,
            "height": null,
            "justify_content": null,
            "justify_items": null,
            "left": null,
            "margin": null,
            "max_height": null,
            "max_width": null,
            "min_height": null,
            "min_width": null,
            "object_fit": null,
            "object_position": null,
            "order": null,
            "overflow": null,
            "overflow_x": null,
            "overflow_y": null,
            "padding": null,
            "right": null,
            "top": null,
            "visibility": null,
            "width": null
          }
        },
        "7dfa826d5d66441fb279345ac007c1b6": {
          "model_module": "@jupyter-widgets/controls",
          "model_name": "ProgressStyleModel",
          "model_module_version": "1.5.0",
          "state": {
            "_model_module": "@jupyter-widgets/controls",
            "_model_module_version": "1.5.0",
            "_model_name": "ProgressStyleModel",
            "_view_count": null,
            "_view_module": "@jupyter-widgets/base",
            "_view_module_version": "1.2.0",
            "_view_name": "StyleView",
            "bar_color": null,
            "description_width": ""
          }
        },
        "faef24eb028546d8bec11435f6cf2c85": {
          "model_module": "@jupyter-widgets/base",
          "model_name": "LayoutModel",
          "model_module_version": "1.2.0",
          "state": {
            "_model_module": "@jupyter-widgets/base",
            "_model_module_version": "1.2.0",
            "_model_name": "LayoutModel",
            "_view_count": null,
            "_view_module": "@jupyter-widgets/base",
            "_view_module_version": "1.2.0",
            "_view_name": "LayoutView",
            "align_content": null,
            "align_items": null,
            "align_self": null,
            "border": null,
            "bottom": null,
            "display": null,
            "flex": null,
            "flex_flow": null,
            "grid_area": null,
            "grid_auto_columns": null,
            "grid_auto_flow": null,
            "grid_auto_rows": null,
            "grid_column": null,
            "grid_gap": null,
            "grid_row": null,
            "grid_template_areas": null,
            "grid_template_columns": null,
            "grid_template_rows": null,
            "height": null,
            "justify_content": null,
            "justify_items": null,
            "left": null,
            "margin": null,
            "max_height": null,
            "max_width": null,
            "min_height": null,
            "min_width": null,
            "object_fit": null,
            "object_position": null,
            "order": null,
            "overflow": null,
            "overflow_x": null,
            "overflow_y": null,
            "padding": null,
            "right": null,
            "top": null,
            "visibility": null,
            "width": null
          }
        },
        "7b41ba9cf6734150a724049bc221f3cb": {
          "model_module": "@jupyter-widgets/controls",
          "model_name": "DescriptionStyleModel",
          "model_module_version": "1.5.0",
          "state": {
            "_model_module": "@jupyter-widgets/controls",
            "_model_module_version": "1.5.0",
            "_model_name": "DescriptionStyleModel",
            "_view_count": null,
            "_view_module": "@jupyter-widgets/base",
            "_view_module_version": "1.2.0",
            "_view_name": "StyleView",
            "description_width": ""
          }
        },
        "b32e4f8b07c64e8c8cfb6ecd3be99869": {
          "model_module": "@jupyter-widgets/controls",
          "model_name": "HBoxModel",
          "model_module_version": "1.5.0",
          "state": {
            "_dom_classes": [],
            "_model_module": "@jupyter-widgets/controls",
            "_model_module_version": "1.5.0",
            "_model_name": "HBoxModel",
            "_view_count": null,
            "_view_module": "@jupyter-widgets/controls",
            "_view_module_version": "1.5.0",
            "_view_name": "HBoxView",
            "box_style": "",
            "children": [
              "IPY_MODEL_1b906f4239b54cc3a1f19788f569e5d9",
              "IPY_MODEL_840ea04ac7784b72a04e603f192aebfe",
              "IPY_MODEL_2d6beb72f583459ea4a64a7a97d6d2e5"
            ],
            "layout": "IPY_MODEL_8d96096f0f304a58b6e699d0bc813c80"
          }
        },
        "1b906f4239b54cc3a1f19788f569e5d9": {
          "model_module": "@jupyter-widgets/controls",
          "model_name": "HTMLModel",
          "model_module_version": "1.5.0",
          "state": {
            "_dom_classes": [],
            "_model_module": "@jupyter-widgets/controls",
            "_model_module_version": "1.5.0",
            "_model_name": "HTMLModel",
            "_view_count": null,
            "_view_module": "@jupyter-widgets/controls",
            "_view_module_version": "1.5.0",
            "_view_name": "HTMLView",
            "description": "",
            "description_tooltip": null,
            "layout": "IPY_MODEL_6f9725dc09974538802cb6564d44390b",
            "placeholder": "​",
            "style": "IPY_MODEL_597b070764d049d8aae0a1a3ee1e5437",
            "value": "Downloading builder script: 100%"
          }
        },
        "840ea04ac7784b72a04e603f192aebfe": {
          "model_module": "@jupyter-widgets/controls",
          "model_name": "FloatProgressModel",
          "model_module_version": "1.5.0",
          "state": {
            "_dom_classes": [],
            "_model_module": "@jupyter-widgets/controls",
            "_model_module_version": "1.5.0",
            "_model_name": "FloatProgressModel",
            "_view_count": null,
            "_view_module": "@jupyter-widgets/controls",
            "_view_module_version": "1.5.0",
            "_view_name": "ProgressView",
            "bar_style": "success",
            "description": "",
            "description_tooltip": null,
            "layout": "IPY_MODEL_5e0a65a0619147e7a0e2e68e31e27f1c",
            "max": 6270,
            "min": 0,
            "orientation": "horizontal",
            "style": "IPY_MODEL_364380e729c04b03bfc0ed4326a30a18",
            "value": 6270
          }
        },
        "2d6beb72f583459ea4a64a7a97d6d2e5": {
          "model_module": "@jupyter-widgets/controls",
          "model_name": "HTMLModel",
          "model_module_version": "1.5.0",
          "state": {
            "_dom_classes": [],
            "_model_module": "@jupyter-widgets/controls",
            "_model_module_version": "1.5.0",
            "_model_name": "HTMLModel",
            "_view_count": null,
            "_view_module": "@jupyter-widgets/controls",
            "_view_module_version": "1.5.0",
            "_view_name": "HTMLView",
            "description": "",
            "description_tooltip": null,
            "layout": "IPY_MODEL_9f19ab620f0e431fa836744becf4755d",
            "placeholder": "​",
            "style": "IPY_MODEL_16e57e715d36438b80723bb3d6451279",
            "value": " 6.27k/6.27k [00:00&lt;00:00, 206kB/s]"
          }
        },
        "8d96096f0f304a58b6e699d0bc813c80": {
          "model_module": "@jupyter-widgets/base",
          "model_name": "LayoutModel",
          "model_module_version": "1.2.0",
          "state": {
            "_model_module": "@jupyter-widgets/base",
            "_model_module_version": "1.2.0",
            "_model_name": "LayoutModel",
            "_view_count": null,
            "_view_module": "@jupyter-widgets/base",
            "_view_module_version": "1.2.0",
            "_view_name": "LayoutView",
            "align_content": null,
            "align_items": null,
            "align_self": null,
            "border": null,
            "bottom": null,
            "display": null,
            "flex": null,
            "flex_flow": null,
            "grid_area": null,
            "grid_auto_columns": null,
            "grid_auto_flow": null,
            "grid_auto_rows": null,
            "grid_column": null,
            "grid_gap": null,
            "grid_row": null,
            "grid_template_areas": null,
            "grid_template_columns": null,
            "grid_template_rows": null,
            "height": null,
            "justify_content": null,
            "justify_items": null,
            "left": null,
            "margin": null,
            "max_height": null,
            "max_width": null,
            "min_height": null,
            "min_width": null,
            "object_fit": null,
            "object_position": null,
            "order": null,
            "overflow": null,
            "overflow_x": null,
            "overflow_y": null,
            "padding": null,
            "right": null,
            "top": null,
            "visibility": null,
            "width": null
          }
        },
        "6f9725dc09974538802cb6564d44390b": {
          "model_module": "@jupyter-widgets/base",
          "model_name": "LayoutModel",
          "model_module_version": "1.2.0",
          "state": {
            "_model_module": "@jupyter-widgets/base",
            "_model_module_version": "1.2.0",
            "_model_name": "LayoutModel",
            "_view_count": null,
            "_view_module": "@jupyter-widgets/base",
            "_view_module_version": "1.2.0",
            "_view_name": "LayoutView",
            "align_content": null,
            "align_items": null,
            "align_self": null,
            "border": null,
            "bottom": null,
            "display": null,
            "flex": null,
            "flex_flow": null,
            "grid_area": null,
            "grid_auto_columns": null,
            "grid_auto_flow": null,
            "grid_auto_rows": null,
            "grid_column": null,
            "grid_gap": null,
            "grid_row": null,
            "grid_template_areas": null,
            "grid_template_columns": null,
            "grid_template_rows": null,
            "height": null,
            "justify_content": null,
            "justify_items": null,
            "left": null,
            "margin": null,
            "max_height": null,
            "max_width": null,
            "min_height": null,
            "min_width": null,
            "object_fit": null,
            "object_position": null,
            "order": null,
            "overflow": null,
            "overflow_x": null,
            "overflow_y": null,
            "padding": null,
            "right": null,
            "top": null,
            "visibility": null,
            "width": null
          }
        },
        "597b070764d049d8aae0a1a3ee1e5437": {
          "model_module": "@jupyter-widgets/controls",
          "model_name": "DescriptionStyleModel",
          "model_module_version": "1.5.0",
          "state": {
            "_model_module": "@jupyter-widgets/controls",
            "_model_module_version": "1.5.0",
            "_model_name": "DescriptionStyleModel",
            "_view_count": null,
            "_view_module": "@jupyter-widgets/base",
            "_view_module_version": "1.2.0",
            "_view_name": "StyleView",
            "description_width": ""
          }
        },
        "5e0a65a0619147e7a0e2e68e31e27f1c": {
          "model_module": "@jupyter-widgets/base",
          "model_name": "LayoutModel",
          "model_module_version": "1.2.0",
          "state": {
            "_model_module": "@jupyter-widgets/base",
            "_model_module_version": "1.2.0",
            "_model_name": "LayoutModel",
            "_view_count": null,
            "_view_module": "@jupyter-widgets/base",
            "_view_module_version": "1.2.0",
            "_view_name": "LayoutView",
            "align_content": null,
            "align_items": null,
            "align_self": null,
            "border": null,
            "bottom": null,
            "display": null,
            "flex": null,
            "flex_flow": null,
            "grid_area": null,
            "grid_auto_columns": null,
            "grid_auto_flow": null,
            "grid_auto_rows": null,
            "grid_column": null,
            "grid_gap": null,
            "grid_row": null,
            "grid_template_areas": null,
            "grid_template_columns": null,
            "grid_template_rows": null,
            "height": null,
            "justify_content": null,
            "justify_items": null,
            "left": null,
            "margin": null,
            "max_height": null,
            "max_width": null,
            "min_height": null,
            "min_width": null,
            "object_fit": null,
            "object_position": null,
            "order": null,
            "overflow": null,
            "overflow_x": null,
            "overflow_y": null,
            "padding": null,
            "right": null,
            "top": null,
            "visibility": null,
            "width": null
          }
        },
        "364380e729c04b03bfc0ed4326a30a18": {
          "model_module": "@jupyter-widgets/controls",
          "model_name": "ProgressStyleModel",
          "model_module_version": "1.5.0",
          "state": {
            "_model_module": "@jupyter-widgets/controls",
            "_model_module_version": "1.5.0",
            "_model_name": "ProgressStyleModel",
            "_view_count": null,
            "_view_module": "@jupyter-widgets/base",
            "_view_module_version": "1.2.0",
            "_view_name": "StyleView",
            "bar_color": null,
            "description_width": ""
          }
        },
        "9f19ab620f0e431fa836744becf4755d": {
          "model_module": "@jupyter-widgets/base",
          "model_name": "LayoutModel",
          "model_module_version": "1.2.0",
          "state": {
            "_model_module": "@jupyter-widgets/base",
            "_model_module_version": "1.2.0",
            "_model_name": "LayoutModel",
            "_view_count": null,
            "_view_module": "@jupyter-widgets/base",
            "_view_module_version": "1.2.0",
            "_view_name": "LayoutView",
            "align_content": null,
            "align_items": null,
            "align_self": null,
            "border": null,
            "bottom": null,
            "display": null,
            "flex": null,
            "flex_flow": null,
            "grid_area": null,
            "grid_auto_columns": null,
            "grid_auto_flow": null,
            "grid_auto_rows": null,
            "grid_column": null,
            "grid_gap": null,
            "grid_row": null,
            "grid_template_areas": null,
            "grid_template_columns": null,
            "grid_template_rows": null,
            "height": null,
            "justify_content": null,
            "justify_items": null,
            "left": null,
            "margin": null,
            "max_height": null,
            "max_width": null,
            "min_height": null,
            "min_width": null,
            "object_fit": null,
            "object_position": null,
            "order": null,
            "overflow": null,
            "overflow_x": null,
            "overflow_y": null,
            "padding": null,
            "right": null,
            "top": null,
            "visibility": null,
            "width": null
          }
        },
        "16e57e715d36438b80723bb3d6451279": {
          "model_module": "@jupyter-widgets/controls",
          "model_name": "DescriptionStyleModel",
          "model_module_version": "1.5.0",
          "state": {
            "_model_module": "@jupyter-widgets/controls",
            "_model_module_version": "1.5.0",
            "_model_name": "DescriptionStyleModel",
            "_view_count": null,
            "_view_module": "@jupyter-widgets/base",
            "_view_module_version": "1.2.0",
            "_view_name": "StyleView",
            "description_width": ""
          }
        }
      }
    }
  },
  "cells": [
    {
      "cell_type": "markdown",
      "source": [
        "# PAPER SUMMARIZATION\n",
        "Welcome to this notebook focused on summarizing academic papers using the arXiv Summarization Dataset and the Huggingface Transformers library.\n",
        "\n",
        "Summarizing lengthy academic papers is a time-consuming task that requires a considerable amount of effort and expertise. However, with the help of natural language processing (NLP) techniques and machine learning algorithms, it is possible to automate this process and generate informative and concise summaries.\n",
        "\n",
        "In this notebook, we will be using the Bidirectional and Auto-Regressive Transformer (BART) model provided by the Huggingface Transformers library to generate summaries for academic papers in the arXiv Summarization Dataset. BART is a state-of-the-art transformer-based model that has achieved impressive results in various NLP tasks, including text summarization.\n",
        "\n",
        "By the end of this notebook, you will have a better understanding of how to use BART to generate summaries for academic papers, and how to evaluate the quality of the generated summaries. Let's get started!"
      ],
      "metadata": {
        "id": "riZxkptAw14H"
      }
    },
    {
      "cell_type": "markdown",
      "source": [
        "## Installing required packages"
      ],
      "metadata": {
        "id": "dih8RdB2xa6w"
      }
    },
    {
      "cell_type": "code",
      "execution_count": null,
      "metadata": {
        "id": "hyH045glwwy6"
      },
      "outputs": [],
      "source": [
        "!pip install transformers datasets evaluate rouge_score"
      ]
    },
    {
      "cell_type": "markdown",
      "source": [
        "## Collecting Data"
      ],
      "metadata": {
        "id": "B5watFNWCEd4"
      }
    },
    {
      "cell_type": "code",
      "source": [
        "from datasets import load_dataset\n",
        "\n",
        "# Loading the arXiv Summarization Dataset from Hugging Face Datasets\n",
        "arxiv_dataset = load_dataset('ccdv/arxiv-summarization')\n",
        "\n",
        "# Loading the Billsum dataset from Hugging Face Datasets\n",
        "billsum = load_dataset(\"billsum\", split=\"ca_test\")"
      ],
      "metadata": {
        "id": "SYl7XohxxdpP"
      },
      "execution_count": null,
      "outputs": []
    },
    {
      "cell_type": "markdown",
      "source": [
        "## Importing required packages"
      ],
      "metadata": {
        "id": "ese1vhOtCKJI"
      }
    },
    {
      "cell_type": "code",
      "source": [
        "# Importing required libraries\n",
        "import numpy as np\n",
        "import pandas as pd\n",
        "import torch\n",
        "from sklearn.model_selection import train_test_split\n",
        "from torch.utils.data import DataLoader\n",
        "from transformers import (\n",
        "    BartTokenizer,\n",
        "    DataCollatorForSeq2Seq,\n",
        "    BartForConditionalGeneration,\n",
        "    AdamW,\n",
        "    get_linear_schedule_with_warmup,\n",
        "    Seq2SeqTrainingArguments,\n",
        "    Seq2SeqTrainer,\n",
        "    pipeline\n",
        ")import evaluate"
      ],
      "metadata": {
        "id": "a50DvHuB1RXO"
      },
      "execution_count": 8,
      "outputs": []
    },
    {
      "cell_type": "markdown",
      "source": [
        "## Initializing model & parameters"
      ],
      "metadata": {
        "id": "gyxjL42-Oaj_"
      }
    },
    {
      "cell_type": "code",
      "source": [
        "# Initializing the BART tokenizer with the checkpoint name\n",
        "checkpoint = 'facebook/bart-large'\n",
        "tokenizer = BartTokenizer.from_pretrained(checkpoint)\n",
        "\n",
        "# Initializing the BART model with the checkpoint name\n",
        "model = BartForConditionalGeneration.from_pretrained(checkpoint)\n"
      ],
      "metadata": {
        "id": "4hZ58kXdOiBP"
      },
      "execution_count": 9,
      "outputs": []
    },
    {
      "cell_type": "markdown",
      "source": [
        "## Data pre-processing"
      ],
      "metadata": {
        "id": "vCP2OlDisbT3"
      }
    },
    {
      "cell_type": "code",
      "source": [
        "# Define the prefix to add to the input text\n",
        "prefix = \"summarize: \"\n",
        "\n",
        "# Define a preprocessing function to tokenize and prepare the data for the model\n",
        "def preprocess_function(examples):\n",
        "    # Add the prefix to the input text and tokenize it\n",
        "    inputs = [prefix + doc for doc in examples[text]]\n",
        "    model_inputs = tokenizer(inputs, max_length=4800, truncation=True)\n",
        "\n",
        "    # Tokenize the target summary text and set it as the labels for the model\n",
        "    labels = tokenizer(text_target=examples[summary], max_length=1024, truncation=True)\n",
        "\n",
        "    # Add the labels to the model inputs and return the processed examples\n",
        "    model_inputs[\"labels\"] = labels[\"input_ids\"]\n",
        "    return model_inputs\n"
      ],
      "metadata": {
        "id": "p0SAYWPeMvda"
      },
      "execution_count": 15,
      "outputs": []
    },
    {
      "cell_type": "code",
      "source": [
        "# Define a data collator to process batches for the model training\n",
        "data_collator = DataCollatorForSeq2Seq(tokenizer=tokenizer, model=checkpoint)\n"
      ],
      "metadata": {
        "id": "PDn_VjZrNwsj"
      },
      "execution_count": 16,
      "outputs": []
    },
    {
      "cell_type": "code",
      "source": [
        "# Define the names of the input and output columns for the arxiv dataset\n",
        "text = \"article\"\n",
        "summary = \"abstract\"\n",
        "\n",
        "# Use the preprocess function to tokenize and prepare the arxiv dataset\n",
        "tokenized_arxiv = arxiv_dataset.map(preprocess_function, batched=True)"
      ],
      "metadata": {
        "id": "PqYYkVbLJkRt"
      },
      "execution_count": null,
      "outputs": []
    },
    {
      "cell_type": "code",
      "source": [
        "# Define the names of the input and output columns for the billsum dataset\n",
        "text = \"text\"\n",
        "summary = \"summary\"\n",
        "\n",
        "# Split the billsum dataset into training and testing sets\n",
        "billsum = billsum.train_test_split(test_size=0.2)\n",
        "\n",
        "# Use the preprocess function to tokenize and prepare the billsum dataset\n",
        "tokenized_billsum = billsum.map(preprocess_function, batched=True)"
      ],
      "metadata": {
        "colab": {
          "base_uri": "https://localhost:8080/",
          "height": 17,
          "referenced_widgets": [
            "e33c9aae04f1455ba06d238c269a3ae3",
            "6378052d422041038db5ceb3c2bb9726",
            "b34c905acf05464a8edd9661702a07b1",
            "3f85d44aab8b407899aff32cda61dba3",
            "77498790809141f4a8d1479139c11b73",
            "5eb2167f8c61460ba9dec07f6121c8de",
            "c07e98623c01424fbd4ca7f67b92fd27",
            "176cddc7ccf946feb3d7a8cd9fb047b5",
            "728dfd4619b74552bd0fdf07a645fa92",
            "ff13815a7a56437085bafce3f145ab10",
            "65144cade2a3444fa371acaf0c0b100f",
            "5896e392c4254935bfe95d760849ea91",
            "1a6782529c0046229b712161b83cf376",
            "923f516f9d2c44bfbfb6d9a872eae9c2",
            "deddfff1a8fb45d68fefa059578aab52",
            "ab664daa09604a8397865727c261098b",
            "84b86956f60548aeb09cf17b3ccdab5d",
            "1aa29c02580e4975a1f9cb4534bdedaf",
            "abd9ed56d41b4e7a9f83741cf1c901a4",
            "7dfa826d5d66441fb279345ac007c1b6",
            "faef24eb028546d8bec11435f6cf2c85",
            "7b41ba9cf6734150a724049bc221f3cb"
          ]
        },
        "id": "3hZRgm4tJV4q",
        "outputId": "87790de1-ce84-4636-83ef-51b41edef798"
      },
      "execution_count": 19,
      "outputs": [
        {
          "output_type": "display_data",
          "data": {
            "text/plain": [
              "Map:   0%|          | 0/989 [00:00<?, ? examples/s]"
            ],
            "application/vnd.jupyter.widget-view+json": {
              "version_major": 2,
              "version_minor": 0,
              "model_id": "e33c9aae04f1455ba06d238c269a3ae3"
            }
          },
          "metadata": {}
        },
        {
          "output_type": "display_data",
          "data": {
            "text/plain": [
              "Map:   0%|          | 0/248 [00:00<?, ? examples/s]"
            ],
            "application/vnd.jupyter.widget-view+json": {
              "version_major": 2,
              "version_minor": 0,
              "model_id": "5896e392c4254935bfe95d760849ea91"
            }
          },
          "metadata": {}
        }
      ]
    },
    {
      "cell_type": "markdown",
      "source": [
        "## Evaluation metrics"
      ],
      "metadata": {
        "id": "giZvJ__zN8ub"
      }
    },
    {
      "cell_type": "code",
      "source": [
        "# Load the ROUGE metric for evaluation\n",
        "rouge = evaluate.load(\"rouge\")\n",
        "\n",
        "# Define a function to compute the evaluation metrics\n",
        "def compute_metrics(eval_pred):\n",
        "    predictions, labels = eval_pred\n",
        "    \n",
        "    # Decode the predicted and label sequences\n",
        "    decoded_preds = tokenizer.batch_decode(predictions, skip_special_tokens=True)\n",
        "    labels = np.where(labels != -100, labels, tokenizer.pad_token_id)\n",
        "    decoded_labels = tokenizer.batch_decode(labels, skip_special_tokens=True)\n",
        "\n",
        "    # Compute the ROUGE scores between the predictions and the labels\n",
        "    result = rouge.compute(predictions=decoded_preds, references=decoded_labels, use_stemmer=True)\n",
        "\n",
        "    # Compute the length of the predicted sequences\n",
        "    prediction_lens = [np.count_nonzero(pred != tokenizer.pad_token_id) for pred in predictions]\n",
        "\n",
        "    # Add the mean length of the predicted sequences to the evaluation result\n",
        "    result[\"gen_len\"] = np.mean(prediction_lens)\n",
        "\n",
        "    # Round the evaluation results to 4 decimal places\n",
        "    return {k: round(v, 4) for k, v in result.items()}\n"
      ],
      "metadata": {
        "colab": {
          "base_uri": "https://localhost:8080/",
          "height": 49,
          "referenced_widgets": [
            "b32e4f8b07c64e8c8cfb6ecd3be99869",
            "1b906f4239b54cc3a1f19788f569e5d9",
            "840ea04ac7784b72a04e603f192aebfe",
            "2d6beb72f583459ea4a64a7a97d6d2e5",
            "8d96096f0f304a58b6e699d0bc813c80",
            "6f9725dc09974538802cb6564d44390b",
            "597b070764d049d8aae0a1a3ee1e5437",
            "5e0a65a0619147e7a0e2e68e31e27f1c",
            "364380e729c04b03bfc0ed4326a30a18",
            "9f19ab620f0e431fa836744becf4755d",
            "16e57e715d36438b80723bb3d6451279"
          ]
        },
        "id": "kS4ypTCpNwpc",
        "outputId": "c65cba47-a01c-4680-ff8e-f8ee2c656eca"
      },
      "execution_count": 20,
      "outputs": [
        {
          "output_type": "display_data",
          "data": {
            "text/plain": [
              "Downloading builder script:   0%|          | 0.00/6.27k [00:00<?, ?B/s]"
            ],
            "application/vnd.jupyter.widget-view+json": {
              "version_major": 2,
              "version_minor": 0,
              "model_id": "b32e4f8b07c64e8c8cfb6ecd3be99869"
            }
          },
          "metadata": {}
        }
      ]
    },
    {
      "cell_type": "markdown",
      "source": [
        "## Model Training"
      ],
      "metadata": {
        "id": "YdW96oMDStfO"
      }
    },
    {
      "cell_type": "code",
      "source": [
        "# Setting up the training arguments for the Seq2SeqTrainer\n",
        "training_args = Seq2SeqTrainingArguments(\n",
        "    output_dir=\"paper_Summarization_model\",  # Directory to save the model checkpoints\n",
        "    evaluation_strategy=\"epoch\",  # Evaluation is done at the end of each epoch\n",
        "    learning_rate=2e-5,  # Learning rate for the optimizer\n",
        "    per_device_train_batch_size=2,  # Batch size for training\n",
        "    per_device_eval_batch_size=2,  # Batch size for evaluation\n",
        "    weight_decay=0.01,  # Weight decay parameter for the optimizer\n",
        "    save_total_limit=3,  # Maximum number of checkpoints to keep\n",
        "    num_train_epochs=4,  # Total number of training epochs\n",
        "    predict_with_generate=True,  # Generate summary at the time of prediction\n",
        "    fp16=True,  # Use mixed-precision training to save memory and speed up training\n",
        "    )\n"
      ],
      "metadata": {
        "id": "aMl6To9dLhLd"
      },
      "execution_count": 23,
      "outputs": []
    },
    {
      "cell_type": "code",
      "source": [
        "# Initializing the Seq2Seq Trainer with the specified parameters\n",
        "trainer = Seq2SeqTrainer(\n",
        "    model=model, \n",
        "    args=training_args, \n",
        "    train_dataset=tokenized_arxiv[\"train\"], # Training dataset\n",
        "    eval_dataset=tokenized_arxiv[\"test\"],  # Evaluation dataset\n",
        "    tokenizer=tokenizer, \n",
        "    data_collator=data_collator, # Data collator for tokenization\n",
        "    compute_metrics=compute_metrics # Metrics to evaluate the model\n",
        ")\n",
        "\n",
        "# Training the Seq2Seq model\n",
        "trainer.train()"
      ],
      "metadata": {
        "id": "ysEnvyQDSvDO"
      },
      "execution_count": null,
      "outputs": []
    },
    {
      "cell_type": "markdown",
      "source": [
        "## Model Prediction"
      ],
      "metadata": {
        "id": "KjdZZsUMS96J"
      }
    },
    {
      "cell_type": "code",
      "source": [
        "# Loading the trained model checkpoint, initializing the tokenizer and model\n",
        "checkpoint = '/content/my_awesome_billsum_model/checkpoint-1500'\n",
        "tokenizer = BartTokenizer.from_pretrained(checkpoint)\n",
        "model = BartForConditionalGeneration.from_pretrained(checkpoint)\n"
      ],
      "metadata": {
        "id": "RckC16O8FqHG"
      },
      "execution_count": null,
      "outputs": []
    },
    {
      "cell_type": "code",
      "source": [
        "text = \"summarize: The Inflation Reduction Act lowers prescription drug costs, health care costs, and energy costs. It's the most aggressive action on tackling the climate crisis in American history, which will lift up American workers and create good-paying, union jobs across the country. It'll lower the deficit and ask the ultra-wealthy and corporations to pay their fair share. And no one making under $400,000 per year will pay a penny more in taxes.\"\n"
      ],
      "metadata": {
        "id": "xI_t-acDGHEc"
      },
      "execution_count": null,
      "outputs": []
    },
    {
      "cell_type": "code",
      "source": [
        "# Creating a pipeline for text summarization using the BART model\n",
        "summarizer = pipeline(\"summarization\", model=checkpoint)\n",
        "\n",
        "# Generating a summary for the given input text\n",
        "summary = summarizer(text)\n"
      ],
      "metadata": {
        "id": "tZWxmle9Sv5H"
      },
      "execution_count": null,
      "outputs": []
    },
    {
      "cell_type": "code",
      "source": [
        "# Tokenizing the input text and generating the summary using the BART model\n",
        "inputs = tokenizer(text, return_tensors=\"pt\").input_ids\n",
        "outputs = model.generate(inputs, max_new_tokens=100, do_sample=False)\n",
        "decoded_summary = tokenizer.decode(outputs[0], skip_special_tokens=True)\n"
      ],
      "metadata": {
        "id": "pNCL0rLJTHnW"
      },
      "execution_count": null,
      "outputs": []
    },
    {
      "cell_type": "markdown",
      "source": [
        "## Conclusion\n",
        "In this notebook, we have demonstrated how to fine-tune the BART model for text summarization using the Hugging Face Transformers library. We have used arXiv and BillSum, to showcase the effectiveness of the approach. We have also discussed the key components of the training process, including data preprocessing, model initialization, and training using the Seq2SeqTrainer. Additionally, we have shown how to evaluate the performance of the trained model using the ROUGE metric and generate summaries using the trained model. Overall, this notebook provides a comprehensive guide for fine-tuning BART for text summarization tasks.\n",
        "\n",
        "**Disclaimer:** The arXiv dataset can be trained on free version of colab, so I haven't trained model here in this notebook but can be effectively trained on full dataset using compute sources."
      ],
      "metadata": {
        "id": "l0S6oETxGeU6"
      }
    }
  ]
}