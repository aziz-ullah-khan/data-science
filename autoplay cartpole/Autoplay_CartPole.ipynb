{
  "nbformat": 4,
  "nbformat_minor": 0,
  "metadata": {
    "colab": {
      "provenance": []
    },
    "kernelspec": {
      "name": "python3",
      "display_name": "Python 3"
    },
    "language_info": {
      "name": "python"
    },
    "accelerator": "GPU",
    "gpuClass": "standard"
  },
  "cells": [
    {
      "cell_type": "markdown",
      "source": [
        "# Autoplay CartPole\n",
        "---\n",
        "Welcome to this notebook file where we will explore the use of reinforcement learning to play CartPole, an exciting and challenging game that requires balancing a pole on top of a cart. In this repository, we will be using the Proximal Policy Optimization (PPO) algorithm, an effective approach for training agents in complex environments, to accomplish this task.\n",
        "\n",
        "The Autoplay feature will enable us to observe the trained agent's performance in real-time as it learns to master the game of CartPole. We will be using the OpenAI gym CartPole dataset to create the game environment, and the Ray library will provide us with the necessary tools to build and train our agent.\n",
        "\n",
        "By the end of this notebook, you will have a better understanding of reinforcement learning, how it can be applied to solve challenging problems such as CartPole, and how to use PPO to train agents in similar environments. So let's dive in and see what we can achieve!"
      ],
      "metadata": {
        "id": "dZiP7H_sYl_a"
      }
    },
    {
      "cell_type": "markdown",
      "source": [
        "## Installing required packages\n"
      ],
      "metadata": {
        "id": "FWQQL5cuYIKY"
      }
    },
    {
      "cell_type": "code",
      "source": [
        "!pip install -U \"ray[tune]\"  # installs Ray + dependencies for Ray Tune\n",
        "!pip install -U \"ray[rllib]\"  # installs Ray + dependencies for Ray RLlib"
      ],
      "metadata": {
        "id": "VvoCWCXtHIY1"
      },
      "execution_count": null,
      "outputs": []
    },
    {
      "cell_type": "markdown",
      "source": [
        "## Importing relevant libraries"
      ],
      "metadata": {
        "id": "bPKRCHxNFzRP"
      }
    },
    {
      "cell_type": "code",
      "source": [
        "import ray\n",
        "from ray import tune\n",
        "from ray.rllib.agents.ppo import PPOTrainer, DEFAULT_CONFIG\n",
        "from ray.tune.registry import register_env\n",
        "import matplotlib.pyplot as plt\n",
        "import gym\n",
        "%matplotlib inline\n",
        "from IPython import display"
      ],
      "metadata": {
        "id": "q0P0ttlUF2kJ"
      },
      "execution_count": 35,
      "outputs": []
    },
    {
      "cell_type": "markdown",
      "source": [
        "## Proximal Policy Optimization"
      ],
      "metadata": {
        "id": "HdMh4UdBZsfg"
      }
    },
    {
      "cell_type": "markdown",
      "source": [
        "### Configurations"
      ],
      "metadata": {
        "id": "iwH9FhRpF6pY"
      }
    },
    {
      "cell_type": "code",
      "source": [
        "config = {\n",
        "\"env\": \"CartPole-v1\", # The environment to use\n",
        "\"num_gpus\": 0, # The number of GPUs to use\n",
        "\"num_workers\": 2, # The number of workers to use\n",
        "\"framework\": \"tf\", # The deep learning framework to use\n",
        "\"model\": {\n",
        "\"fcnet_hiddens\": [256, 256] # The sizes of the hidden layers in the neural network\n",
        "},\n",
        "\"lr\": 0.0001, # The learning rate of the optimizer\n",
        "\"num_sgd_iter\": 10, # The number of iterations of the optimizer to use\n",
        "\"gamma\": 0.99, # The discount factor for future rewards\n",
        "\"use_gae\": True, # Whether to use generalized advantage estimation\n",
        "\"lambda\": 0.95, # The lambda parameter for generalized advantage estimation\n",
        "\"kl_coeff\": 0.2, # The coefficient for the KL divergence in the loss function\n",
        "\"clip_rewards\": True, # Whether to clip rewards to [-1, 1]\n",
        "\"clip_param\": 0.3, # The clipping parameter for the PPO loss function\n",
        "\"vf_clip_param\": 10.0, # The maximum value of the value function\n",
        "\"entropy_coeff\": 0.01, # The coefficient for the entropy bonus in the loss function\n",
        "\"train_batch_size\": 2000, # The size of the training batch\n",
        "\"sgd_minibatch_size\": 128, # The size of the minibatch for each iteration of the optimizer\n",
        "\"rollout_fragment_length\": 200, # The length of each rollout\n",
        "\"num_envs_per_worker\": 5, # The number of environments to run in parallel on each worker\n",
        "\"batch_mode\": \"truncate_episodes\", # Whether to truncate episodes at the end of a batch\n",
        "\"observation_filter\": \"NoFilter\", # The filter to apply to observations\n",
        "\"vf_share_layers\": True # Whether to share layers between the policy and value networks\n",
        "}\n"
      ],
      "metadata": {
        "id": "F56wyzt4ux-4"
      },
      "execution_count": 23,
      "outputs": []
    },
    {
      "cell_type": "markdown",
      "source": [
        "### Training"
      ],
      "metadata": {
        "id": "GnvoN3ETF-rv"
      }
    },
    {
      "cell_type": "code",
      "source": [
        "# Create a PPOTrainer with the specified configuration\n",
        "trainer = PPOTrainer(config=config)"
      ],
      "metadata": {
        "id": "b22XVxSE2uYd"
      },
      "execution_count": null,
      "outputs": []
    },
    {
      "cell_type": "code",
      "source": [
        "# Train the agent for number of iterations (num_itr) and record the rewards\n",
        "from ray.tune.logger import pretty_print\n",
        "rewards = []\n",
        "num_itr = 20\n",
        "for i in range(num_itr):\n",
        "    # Train the agent for one iteration and record the average reward\n",
        "    result = trainer.train()\n",
        "    rewards.append(result[\"episode_reward_mean\"])\n",
        "    # Print the result of the training iteration\n",
        "    print(f'Iteration {i}: {result}')\n",
        "    #print(pretty_print(result))\n"
      ],
      "metadata": {
        "id": "WIGmakIo23ld"
      },
      "execution_count": null,
      "outputs": []
    },
    {
      "cell_type": "code",
      "source": [
        "# Plot the mean training rewards across iterations\n",
        "plt.figure(figsize=(10,5))\n",
        "plt.plot(rewards)\n",
        "plt.xlabel(\"iterations\")\n",
        "plt.ylabel(\"average reward\")\n",
        "plt.show()"
      ],
      "metadata": {
        "colab": {
          "base_uri": "https://localhost:8080/",
          "height": 334
        },
        "id": "nDkQX7i9EiHC",
        "outputId": "e9df8cf5-267e-44a2-80f8-86938fdc28ad"
      },
      "execution_count": 28,
      "outputs": [
        {
          "output_type": "display_data",
          "data": {
            "text/plain": [
              "<Figure size 720x360 with 1 Axes>"
            ],
            "image/png": "[encoded data removed]"
          },
          "metadata": {
            "needs_background": "light"
          }
        }
      ]
    },
    {
      "cell_type": "markdown",
      "source": [
        "## Saving the model"
      ],
      "metadata": {
        "id": "8OLK1pQa9LoQ"
      }
    },
    {
      "cell_type": "code",
      "source": [
        "# Save the trained agent to a checkpoint file\n",
        "trainer.save('cartpole')\n"
      ],
      "metadata": {
        "colab": {
          "base_uri": "https://localhost:8080/",
          "height": 35
        },
        "id": "KSlk-OxS3Kxw",
        "outputId": "b75d604f-218e-4c05-ea41-860f40fbffed"
      },
      "execution_count": 29,
      "outputs": [
        {
          "output_type": "execute_result",
          "data": {
            "text/plain": [
              "'cartpole/checkpoint_000020'"
            ],
            "application/vnd.google.colaboratory.intrinsic+json": {
              "type": "string"
            }
          },
          "metadata": {},
          "execution_count": 29
        }
      ]
    },
    {
      "cell_type": "markdown",
      "source": [
        "## Restoring the model"
      ],
      "metadata": {
        "id": "7QyL3xL3Fgxf"
      }
    },
    {
      "cell_type": "code",
      "source": [
        "# Restore the trained agent from a saved checkpoint file\n",
        "trainer.restore('/content/cartpole/checkpoint_000002')\n"
      ],
      "metadata": {
        "colab": {
          "base_uri": "https://localhost:8080/"
        },
        "id": "V9cRonItFjdq",
        "outputId": "511532d5-a71b-46dc-8998-9cbc68533ae0"
      },
      "execution_count": 11,
      "outputs": [
        {
          "output_type": "stream",
          "name": "stderr",
          "text": [
            "2023-03-25 10:32:25,902\tINFO trainable.py:791 -- Restored on 172.28.0.12 from checkpoint: /content/cartpole/checkpoint_000002\n",
            "2023-03-25 10:32:25,908\tINFO trainable.py:800 -- Current state after restoring: {'_iteration': 2, '_timesteps_total': None, '_time_total': 7.339240789413452, '_episodes_total': 138}\n"
          ]
        }
      ]
    },
    {
      "cell_type": "markdown",
      "source": [
        "## Hyperparameters Tunning"
      ],
      "metadata": {
        "id": "tYklJDRx_7C4"
      }
    },
    {
      "cell_type": "code",
      "source": [
        "config = {\n",
        "\"env\": \"CartPole-v1\", # the environment to train on\n",
        "\"framework\": \"tf\", # the deep learning framework to use\n",
        "\"num_workers\": 1, # the number of workers (CPU cores) to use for training\n",
        "\"num_gpus\": 0, # the number of GPUs to use for training\n",
        "\"num_cpus_per_worker\": 1, # the number of CPUs to assign to each worker\n",
        "\"lr\": tune.grid_search([0.001, 0.01, 0.1]), # the learning rate to use for training\n",
        "\"log_level\": \"INFO\", # the logging level for output\n",
        "\"model\": { # the neural network model configuration\n",
        "\"fcnet_activation\": \"tanh\", # the activation function to use for fully connected layers\n",
        "\"fcnet_hiddens\": [256, 256], # the number of neurons in each fully connected layer\n",
        "},\n",
        "}\n",
        "\n",
        "analysis = tune.run(\n",
        "PPOTrainer,\n",
        "config=config,\n",
        "stop={\"training_iteration\": 3}, # stop training after 3 iterations\n",
        "checkpoint_at_end=True, # save the final model checkpoint\n",
        "verbose=1, # print verbose output during training\n",
        "name=\"CartPole-v1_PPO\", # the name of the training run\n",
        "metric=\"episode_reward_mean\", # the metric to track during training\n",
        "mode=\"max\", # whether to maximize or minimize the tracked metric\n",
        "num_samples=3 # the number of hyperparameter configurations to try\n",
        ")\n"
      ],
      "metadata": {
        "id": "7e_1SaWm_6ny"
      },
      "execution_count": null,
      "outputs": []
    },
    {
      "cell_type": "code",
      "source": [
        "best_trial = analysis.get_best_trial(\"episode_reward_mean\", \"max\", \"last\")\n",
        "print(\"Best trial config: \", best_trial.config)\n",
        "print(\"Best trial reward: \", best_trial.last_result[\"episode_reward_mean\"])"
      ],
      "metadata": {
        "id": "bMsB1z0dBcTa"
      },
      "execution_count": null,
      "outputs": []
    },
    {
      "cell_type": "markdown",
      "source": [
        "## Auto Play Game - Using Trained Model"
      ],
      "metadata": {
        "id": "_rlYctdH7Drt"
      }
    },
    {
      "cell_type": "code",
      "source": [
        "# Shutdown Ray if it was already running, and then initialize it\n",
        "ray.shutdown()\n",
        "ray.init()\n",
        "\n",
        "# Define the environment name\n",
        "env_name = \"CartPole-v1\"\n",
        "\n",
        "# Create a PPO trainer object\n",
        "trainer = PPOTrainer(config=DEFAULT_CONFIG, env=env_name)\n",
        "\n",
        "# Load the trained checkpoint\n",
        "checkpoint_path = \"/content/cartpole/checkpoint_000002\"\n",
        "trainer.restore(checkpoint_path)\n",
        "\n",
        "# Create an environment to test the policy\n",
        "env = gym.make(env_name)\n",
        "\n",
        "# Run the game using the trained policy\n",
        "done = False\n",
        "obs = env.reset()\n",
        "img = plt.imshow(env.render('rgb_array')) # only call this once\n",
        "total_reward = 0\n",
        "while not done:\n",
        "    action = trainer.compute_action(obs)\n",
        "    obs, reward, done, info = env.step(action)\n",
        "    img.set_data(env.render('rgb_array')) # just update the data\n",
        "    display.display(plt.gcf())\n",
        "    display.clear_output(wait=True)\n",
        "    total_reward += reward\n",
        "\n",
        "print(f'Total reward: {total_reward}')\n",
        "env.close()\n",
        "ray.shutdown()\n"
      ],
      "metadata": {
        "colab": {
          "base_uri": "https://localhost:8080/",
          "height": 287
        },
        "id": "evwKjQQx6o-e",
        "outputId": "c7ffb0ea-8d55-4ffa-b88f-cb185e18edee"
      },
      "execution_count": 63,
      "outputs": [
        {
          "output_type": "stream",
          "name": "stdout",
          "text": [
            "Total reward: 64.0\n"
          ]
        },
        {
          "output_type": "display_data",
          "data": {
            "text/plain": [
              "<Figure size 432x288 with 1 Axes>"
            ],
            "image/png": "[encoded data removed]"
          },
          "metadata": {
            "needs_background": "light"
          }
        }
      ]
    },
    {
      "cell_type": "markdown",
      "source": [
        "## Summary and Conclusion\n",
        "In this notebook, we explored the use of reinforcement learning to play CartPole using the PPO algorithm. We used the OpenAI gym CartPole dataset to create the game environment and the Ray library to build and train our agent. The Autoplay feature allowed us to observe the agent's performance in real-time as it learned to master the game.\n",
        "\n",
        "Reinforcement learning is a powerful technique for training agents to solve complex problems. In this notebook, we demonstrated how it can be used to play the game of CartPole using the PPO algorithm. The Autoplay feature enabled us to observe the agent's progress in real-time, providing us with valuable insights into its learning process.\n",
        "\n",
        "While this notebook focused on CartPole, the techniques and tools demonstrated here can be applied to a wide range of other environments and problems. With further research and development, reinforcement learning has the potential to revolutionize many fields, from robotics to finance.\n",
        "\n",
        "Overall, this notebook provides a valuable introduction to reinforcement learning and demonstrates the exciting possibilities it holds for the future of artificial intelligence."
      ],
      "metadata": {
        "id": "5UEpiayEUXZ7"
      }
    }
  ]
}