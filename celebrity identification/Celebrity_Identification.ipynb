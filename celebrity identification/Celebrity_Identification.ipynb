{
  "nbformat": 4,
  "nbformat_minor": 0,
  "metadata": {
    "colab": {
      "provenance": []
    },
    "kernelspec": {
      "name": "python3",
      "display_name": "Python 3"
    },
    "language_info": {
      "name": "python"
    }
  },
  "cells": [
    {
      "cell_type": "markdown",
      "source": [
        "# CELEBRITY IDENTIFICATION\n",
        "---\n",
        "Welcome to this notebook focused on Celebrity Identification! In this project, we will explore the capabilities of the Face API, a powerful algorithm developed by Microsoft Cognitive Services, to recognize the face of a celebrity. Our dataset for this project is the Celebrity Face Recognition Dataset, which contains a variety of images of famous individuals from various fields, such as actors, musicians, athletes, politicians, and more.\n",
        "\n",
        "By leveraging the power of the Face API, we will be able to detect and identify celebrities in images with high accuracy, making it a valuable tool for various applications, including security systems, social media analytics, and marketing campaigns. Throughout this notebook, we will explore the features and functionality of the Face API, and how to utilize it to recognize and identify celebrities in images.\n",
        "\n",
        "So, let's get started and dive into the exciting world of Celebrity Identification with the Face API!"
      ],
      "metadata": {
        "id": "oDGSmzsm1E1d"
      }
    },
    {
      "cell_type": "markdown",
      "source": [
        "## Installing required packages"
      ],
      "metadata": {
        "id": "YuysPZjR1uib"
      }
    },
    {
      "cell_type": "code",
      "source": [
        "!pip install --upgrade azure-cognitiveservices-vision-face"
      ],
      "metadata": {
        "id": "NQefCZcc1xab"
      },
      "execution_count": null,
      "outputs": []
    },
    {
      "cell_type": "markdown",
      "source": [
        "## Collecting Data"
      ],
      "metadata": {
        "id": "PvbU8RBoTIEQ"
      }
    },
    {
      "cell_type": "code",
      "source": [
        "!gdown 0B5G8pYUQMNZnN0tPSi16RzYtMGM"
      ],
      "metadata": {
        "id": "p3Q8J4XMkyRm"
      },
      "execution_count": null,
      "outputs": []
    },
    {
      "cell_type": "markdown",
      "source": [
        "## Importing required packages"
      ],
      "metadata": {
        "id": "RZ8EeT4A1_58"
      }
    },
    {
      "cell_type": "code",
      "source": [
        "import asyncio\n",
        "import io\n",
        "import os\n",
        "import sys\n",
        "import zipfile\n",
        "import shutil\n",
        "import time\n",
        "import uuid\n",
        "import requests\n",
        "from urllib.parse import urlparse\n",
        "from io import BytesIO\n",
        "# To install this module, run:\n",
        "# python -m pip install Pillow\n",
        "from PIL import Image, ImageDraw\n",
        "from azure.cognitiveservices.vision.face import FaceClient\n",
        "from msrest.authentication import CognitiveServicesCredentials\n",
        "from azure.cognitiveservices.vision.face.models import TrainingStatusType, Person, QualityForRecognition\n"
      ],
      "metadata": {
        "id": "g-4vKRAA1xW7"
      },
      "execution_count": 67,
      "outputs": []
    },
    {
      "cell_type": "markdown",
      "source": [
        "## Data pre-processing"
      ],
      "metadata": {
        "id": "pKs4tls0mjax"
      }
    },
    {
      "cell_type": "code",
      "source": [
        "zip_files_dir = '/content/'\n",
        "extract_dir = '/content/celebrity_images_extract'\n",
        "destination_dir = '/content/celebrity_images'\n",
        "\n",
        "# Create extract and destination directories if they don't exist\n",
        "if not os.path.exists(extract_dir):\n",
        "    os.makedirs(extract_dir)\n",
        "if not os.path.exists(destination_dir):\n",
        "    os.makedirs(destination_dir)\n",
        "\n",
        "# Extract zip files to extract_dir\n",
        "for zip_file in os.listdir(zip_files_dir):\n",
        "    if zip_file.endswith('.zip'):\n",
        "        with zipfile.ZipFile(os.path.join(zip_files_dir, zip_file), 'r') as zip_ref:\n",
        "            zip_ref.extractall(extract_dir)\n",
        "\n",
        "# Move subfolders from extract_dir to destination_dir\n",
        "for folder in os.listdir(extract_dir):\n",
        "    folder_path = os.path.join(extract_dir, folder)\n",
        "    if os.path.isdir(folder_path):\n",
        "        for sub_folder in os.listdir(folder_path):\n",
        "            sub_folder_path = os.path.join(folder_path, sub_folder)\n",
        "            if os.path.isdir(sub_folder_path):\n",
        "                shutil.move(sub_folder_path, destination_dir)\n",
        "        #os.rmdir(folder_path)"
      ],
      "metadata": {
        "id": "tfJt8RynmlaF"
      },
      "execution_count": null,
      "outputs": []
    },
    {
      "cell_type": "markdown",
      "source": [
        "## Initializing parameters ..."
      ],
      "metadata": {
        "id": "pmqYt91s2Fij"
      }
    },
    {
      "cell_type": "code",
      "source": [
        "# Set up the Face API client\n",
        "face_key = \"<MY FACE KEY>\"\n",
        "face_endpoint = \"<MY FACE API ENDPOINT>\"\n",
        "face_client = FaceClient(face_endpoint, CognitiveServicesCredentials(face_key))"
      ],
      "metadata": {
        "id": "LwbCV2vqr0-L"
      },
      "execution_count": null,
      "outputs": []
    },
    {
      "cell_type": "code",
      "source": [
        "# Set the path to the directory containing the celebrity images\n",
        "images_dir = destination_dir\n",
        "\n",
        "# Set the name for the celebrity recognition model\n",
        "model_name = 'celebrity-recognition'"
      ],
      "metadata": {
        "id": "U5NH9XtCsJU0"
      },
      "execution_count": null,
      "outputs": []
    },
    {
      "cell_type": "markdown",
      "source": [
        "## Create the PersonGroup"
      ],
      "metadata": {
        "id": "gJcpzhILRwhi"
      }
    },
    {
      "cell_type": "code",
      "source": [
        "# Create a new PersonGroup for the celebrities\n",
        "face_client.person_group.create(person_group_id=model_name, name=model_name)"
      ],
      "metadata": {
        "id": "yfjRN9o2saV_"
      },
      "execution_count": null,
      "outputs": []
    },
    {
      "cell_type": "markdown",
      "source": [
        "## Detect faces and register them to each person"
      ],
      "metadata": {
        "id": "LnFUTiynR3MA"
      }
    },
    {
      "cell_type": "code",
      "source": [
        "# Loop through all the celebrity folders in the images directory\n",
        "for celebrity_folder in os.listdir(images_dir):\n",
        "    celebrity_id = celebrity_folder.lower().replace(' ', '-')\n",
        "    celebrity_name = celebrity_folder.title()\n",
        "    \n",
        "    # Create a new Person for the celebrity\n",
        "    person = face_client.person_group_person.create(model_name, celebrity_id, celebrity_name)\n",
        "    \n",
        "    # Loop through all the image files in the celebrity folder\n",
        "    for file in os.listdir(os.path.join(images_dir, celebrity_folder)):\n",
        "        image_path = os.path.join(images_dir, celebrity_folder, file)\n",
        "        \n",
        "        # Add the image to the Person's Face list\n",
        "        with open(image_path, 'rb') as image_file:\n",
        "            # Check if the image is of sufficent quality for recognition.\n",
        "            sufficientQuality = True\n",
        "            detected_faces = face_client.face.detect_with_stream(model_name, person.person_id, image_file)\n",
        "            for face in detected_faces:\n",
        "              if face.face_attributes.quality_for_recognition != QualityForRecognition.high:\n",
        "                sufficientQuality = False\n",
        "                break\n",
        "              face_client.person_group_person.add_face_from_stream(model_name, person.person_id, image_file)\n",
        "              print(\"face {} added to person {}\".format(face.face_id, person.person_id))\n",
        "            if not sufficientQuality: continue\n"
      ],
      "metadata": {
        "id": "_LTeNxk1sh34"
      },
      "execution_count": null,
      "outputs": []
    },
    {
      "cell_type": "markdown",
      "source": [
        "## Train PersonGroup"
      ],
      "metadata": {
        "id": "jnVqm_1-64_a"
      }
    },
    {
      "cell_type": "code",
      "source": [
        "# Train the person group\n",
        "print(\"pg resource is {}\".format(model_name))\n",
        "rawresponse = face_client.person_group.train(model_name, raw= True)\n",
        "print(rawresponse)\n",
        "\n",
        "while (True):\n",
        "    training_status = face_client.person_group.get_training_status(model_name)\n",
        "    print(\"Training status: {}.\".format(training_status.status))\n",
        "    print()\n",
        "    if (training_status.status is TrainingStatusType.succeeded):\n",
        "        break\n",
        "    elif (training_status.status is TrainingStatusType.failed):\n",
        "        face_client.person_group.delete(person_group_id=model_name)\n",
        "        sys.exit('Training the person group has failed.')\n",
        "    time.sleep(5)"
      ],
      "metadata": {
        "id": "5nctuLlt1JqO"
      },
      "execution_count": null,
      "outputs": []
    },
    {
      "cell_type": "markdown",
      "source": [
        "## Identify a face against a defined PersonGroup"
      ],
      "metadata": {
        "id": "jT6xdWx5Tn9W"
      }
    },
    {
      "cell_type": "code",
      "source": [
        "# Loop through all the image files in the directory again\n",
        "for root, dirs, files in os.walk(images_dir):\n",
        "    for file in files:\n",
        "        # Load the image file\n",
        "        image_path = os.path.join(root, file)\n",
        "        with open(image_path, 'rb') as image_file:\n",
        "            image_data = image_file.read()\n",
        "\n",
        "        # Use the Face API to detect faces in the image\n",
        "        detected_faces = face_client.face.detect_with_stream(image_data)\n",
        "\n",
        "        # Check if any faces were detected\n",
        "        if detected_faces:\n",
        "            # Identify the celebrity in the image\n",
        "            identified_celebrities = face_client.face.identify([f.face_id for f in detected_faces], model_name)\n",
        "            if identified_celebrities:\n",
        "                celebrity_id = identified_celebrities[0].candidates[0].person_id\n",
        "                celebrity_name = face_client.person_group_person.get(model_name, celebrity_id).name\n",
        "                print(f'{file} is a picture of {celebrity_name}')\n",
        "            else:\n",
        "                print(f'No celebrities identified in {file}')\n",
        "        else:\n",
        "            print(f'No faces detected in {file}')\n"
      ],
      "metadata": {
        "id": "mMWah6tELryl"
      },
      "execution_count": null,
      "outputs": []
    },
    {
      "cell_type": "markdown",
      "source": [
        "## Conclusion & Summary\n",
        "This notebook explored the use of the Face API algorithm developed by Microsoft Cognitive Services for celebrity identification using the Celebrity Face Recognition Dataset. By leveraging the powerful features of the API, we were able to accurately detect and identify famous individuals from various fields in images, highlighting its potential for use in security systems, social media analytics, and marketing campaigns.\n",
        "\n",
        "In conclusion, the Face API algorithm is a valuable tool for celebrity identification, with its high accuracy in detecting and identifying famous individuals in images. As technology continues to advance, we can expect further developments in facial recognition technology, which will transform various industries and provide new opportunities for innovation and growth."
      ],
      "metadata": {
        "id": "xDFuA60bwpGy"
      }
    }
  ]
}