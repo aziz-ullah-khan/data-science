{
  "cells": [
    {
      "cell_type": "markdown",
      "id": "034bee7c",
      "metadata": {
        "id": "034bee7c"
      },
      "source": [
        "# GoDaddy - Microbusiness Density Forecasting - Kaggle Competition\n",
        "---\n",
        "---"
      ]
    },
    {
      "cell_type": "markdown",
      "id": "11a9e72a",
      "metadata": {
        "id": "11a9e72a"
      },
      "source": [
        "### Dataset Description\n",
        "Your challenge in this competition is to forecast microbusiness activity across the United States, as measured by the density of microbusinesses in US counties. Microbusinesses are often too small or too new to show up in traditional economic data sources, but microbusiness activity may be correlated with other economic indicators of general interest.\n",
        "\n",
        "As historic economic data are widely available, this is a forecasting competition. The forecasting phase public leaderboard and final private leaderboard will be determined using data gathered after the submission period closes. You will make static forecasts that can only incorporate information available before the end of the submission period. This means that while we will rescore submissions during the forecasting period we will not rerun any notebooks.\n",
        "\n",
        "### Files\n",
        "A great deal of data is publicly available about counties and we have not attempted to gather it all here. You are strongly encouraged to use external data sources for features.\n",
        "\n",
        "### train.csv\n",
        "\n",
        "- row_id - An ID code for the row.\n",
        "\n",
        "- cfips - A unique identifier for each county using the Federal Information Processing System. The first two digits correspond to the state FIPS code, while the following 3 represent the county.\n",
        "\n",
        "- county_name - The written name of the county.\n",
        "\n",
        "- state_name - The name of the state.\n",
        "\n",
        "- first_day_of_month - The date of the first day of the month.\n",
        "\n",
        "- microbusiness_density - Microbusinesses per 100 people over the age of 18 in the given county. This is the target variable. The population figures used to calculate the density are on a two-year lag due to the pace of update provided by the U.S. Census Bureau, which provides the underlying population data annually. 2021 density figures are calculated using 2019 population figures, etc.\n",
        "\n",
        "- active - The raw count of microbusinesses in the county. Not provided for the test set.\n",
        "\n",
        "### sample_submission.csv \n",
        "\n",
        "A valid sample submission. This file will remain unchanged throughout the competition.\n",
        "\n",
        "- row_id - An ID code for the row.\n",
        "\n",
        "- microbusiness_density - The target variable.\n",
        "\n",
        "### test.csv \n",
        "\n",
        "Metadata for the submission rows. This file will remain unchanged throughout the competition.\n",
        "\n",
        "- row_id - An ID code for the row.\n",
        "\n",
        "- cfips - A unique identifier for each county using the Federal Information Processing System. The first two digits correspond to the state FIPS code, while the following 3 represent the county.\n",
        "\n",
        "- first_day_of_month - The date of the first day of the month.\n",
        "\n",
        "### revealed_test.csv\n",
        "During the submission period, only the most recent month of data will be used for the public leaderboard. Any test set data older than that will be published in revealed_test.csv, closely following the usual data release cycle for the microbusiness report. We expect to publish one copy of revealed_test.csv in mid February. This file's schema will match train.csv.\n",
        "\n",
        "### census_starter.csv \n",
        "Examples of useful columns from the Census Bureau's American Community Survey (ACS) at data.census.gov. The percentage fields were derived from the raw counts provided by the ACS. All fields have a two year lag to match what information was avaiable at the time a given microbusiness data update was published.\n",
        "\n",
        "- pct_bb_[year] - The percentage of households in the county with access to broadband of any type. Derived from ACS table B28002: PRESENCE AND TYPES OF INTERNET SUBSCRIPTIONS IN HOUSEHOLD.\n",
        "\n",
        "- cfips - The CFIPS code.\n",
        "\n",
        "- pct_college_[year] - The percent of the population in the county over age 25 with a 4-year college degree. Derived from ACS table S1501: EDUCATIONAL ATTAINMENT.\n",
        "\n",
        "- pct_foreign_born_[year] - The percent of the population in the county born outside of the United States. Derived from ACS table DP02: SELECTED SOCIAL CHARACTERISTICS IN THE UNITED STATES.\n",
        "\n",
        "- pct_it_workers_[year] - The percent of the workforce in the county employed in information related industries. Derived from ACS table S2405: INDUSTRY BY OCCUPATION FOR THE CIVILIAN EMPLOYED POPULATION 16 YEARS AND OVER.\n",
        "\n",
        "- median_hh_inc_[year] - The median household income in the county. Derived from ACS table S1901: INCOME IN THE PAST 12 MONTHS (IN 2021 INFLATION-ADJUSTED DOLLARS)."
      ]
    },
    {
      "cell_type": "code",
      "source": [
        "## installing required packages\n",
        "!pip install catboost"
      ],
      "metadata": {
        "id": "O0A_rvNIOXzu"
      },
      "id": "O0A_rvNIOXzu",
      "execution_count": null,
      "outputs": []
    },
    {
      "cell_type": "markdown",
      "id": "fefef4b5",
      "metadata": {
        "id": "fefef4b5"
      },
      "source": [
        "## Importing relevant libraries"
      ]
    },
    {
      "cell_type": "code",
      "execution_count": null,
      "id": "52959449",
      "metadata": {
        "id": "52959449"
      },
      "outputs": [],
      "source": [
        "import numpy as np\n",
        "import pandas as pd\n",
        "import matplotlib.pyplot as plt\n",
        "from sklearn.preprocessing import MinMaxScaler\n",
        "import seaborn as sns\n",
        "sns.set()\n",
        "import warnings \n",
        "from sklearn.linear_model import (LinearRegression, Lasso, Ridge, ElasticNet, \n",
        "                                  MultiTaskLasso, MultiTaskElasticNet, \n",
        "                                  BayesianRidge, ARDRegression, RANSACRegressor, \n",
        "                                  TheilSenRegressor, HuberRegressor, \n",
        "                                  PassiveAggressiveRegressor, LogisticRegressionCV)\n",
        "from sklearn.tree import DecisionTreeRegressor\n",
        "from sklearn.neighbors import KNeighborsRegressor\n",
        "from sklearn.ensemble import (RandomForestRegressor, GradientBoostingRegressor, \n",
        "                              AdaBoostRegressor, BaggingRegressor)\n",
        "\n",
        "from sklearn.tree import DecisionTreeRegressor\n",
        "from sklearn.neighbors import KNeighborsRegressor\n",
        "from sklearn.ensemble import (RandomForestRegressor, GradientBoostingRegressor, \n",
        "                              AdaBoostRegressor, BaggingRegressor)\n",
        "\n",
        "from sklearn.svm import SVR\n",
        "from sklearn.neural_network import MLPRegressor\n",
        "from sklearn.gaussian_process import GaussianProcessRegressor\n",
        "\n",
        "from tqdm import tqdm\n",
        "from sklearn.metrics import mean_absolute_percentage_error\n",
        "from sklearn.ensemble import VotingRegressor\n",
        "from sklearn.ensemble import StackingRegressor\n",
        "from sklearn.model_selection import KFold, GridSearchCV\n",
        "import xgboost as xgb\n",
        "from lightgbm import LGBMRegressor\n",
        "from catboost import CatBoostRegressor \n",
        "warnings.filterwarnings('ignore')"
      ]
    },
    {
      "cell_type": "markdown",
      "id": "60af7dd2",
      "metadata": {
        "id": "60af7dd2"
      },
      "source": [
        "## Getting Dataset"
      ]
    },
    {
      "cell_type": "code",
      "execution_count": null,
      "id": "2275f43f",
      "metadata": {
        "id": "2275f43f"
      },
      "outputs": [],
      "source": [
        "df_train = pd.read_csv('/content/train.csv')\n",
        "df_test = pd.read_csv('/content/test.csv')"
      ]
    },
    {
      "cell_type": "markdown",
      "id": "174b2d5a",
      "metadata": {
        "id": "174b2d5a"
      },
      "source": [
        "## Exploratory Data Analysis"
      ]
    },
    {
      "cell_type": "code",
      "execution_count": null,
      "id": "11030aea",
      "metadata": {
        "colab": {
          "base_uri": "https://localhost:8080/",
          "height": 206
        },
        "id": "11030aea",
        "outputId": "6b136ee0-95ae-4d9b-fd79-252c7f27fd43"
      },
      "outputs": [
        {
          "output_type": "execute_result",
          "data": {
            "text/plain": [
              "            row_id  cfips          county    state first_day_of_month  \\\n",
              "0  1001_2019-08-01   1001  Autauga County  Alabama         2019-08-01   \n",
              "1  1001_2019-09-01   1001  Autauga County  Alabama         2019-09-01   \n",
              "2  1001_2019-10-01   1001  Autauga County  Alabama         2019-10-01   \n",
              "3  1001_2019-11-01   1001  Autauga County  Alabama         2019-11-01   \n",
              "4  1001_2019-12-01   1001  Autauga County  Alabama         2019-12-01   \n",
              "\n",
              "   microbusiness_density  active  \n",
              "0               3.007682  1249.0  \n",
              "1               2.884870  1198.0  \n",
              "2               3.055843  1269.0  \n",
              "3               2.993233  1243.0  \n",
              "4               2.993233  1243.0  "
            ],
            "text/html": [
              "\n",
              "  <div id=\"df-2b13acb2-c5b1-40b5-a99c-2e425ea3825f\">\n",
              "    <div class=\"colab-df-container\">\n",
              "      <div>\n",
              "<style scoped>\n",
              "    .dataframe tbody tr th:only-of-type {\n",
              "        vertical-align: middle;\n",
              "    }\n",
              "\n",
              "    .dataframe tbody tr th {\n",
              "        vertical-align: top;\n",
              "    }\n",
              "\n",
              "    .dataframe thead th {\n",
              "        text-align: right;\n",
              "    }\n",
              "</style>\n",
              "<table border=\"1\" class=\"dataframe\">\n",
              "  <thead>\n",
              "    <tr style=\"text-align: right;\">\n",
              "      <th></th>\n",
              "      <th>row_id</th>\n",
              "      <th>cfips</th>\n",
              "      <th>county</th>\n",
              "      <th>state</th>\n",
              "      <th>first_day_of_month</th>\n",
              "      <th>microbusiness_density</th>\n",
              "      <th>active</th>\n",
              "    </tr>\n",
              "  </thead>\n",
              "  <tbody>\n",
              "    <tr>\n",
              "      <th>0</th>\n",
              "      <td>1001_2019-08-01</td>\n",
              "      <td>1001</td>\n",
              "      <td>Autauga County</td>\n",
              "      <td>Alabama</td>\n",
              "      <td>2019-08-01</td>\n",
              "      <td>3.007682</td>\n",
              "      <td>1249.0</td>\n",
              "    </tr>\n",
              "    <tr>\n",
              "      <th>1</th>\n",
              "      <td>1001_2019-09-01</td>\n",
              "      <td>1001</td>\n",
              "      <td>Autauga County</td>\n",
              "      <td>Alabama</td>\n",
              "      <td>2019-09-01</td>\n",
              "      <td>2.884870</td>\n",
              "      <td>1198.0</td>\n",
              "    </tr>\n",
              "    <tr>\n",
              "      <th>2</th>\n",
              "      <td>1001_2019-10-01</td>\n",
              "      <td>1001</td>\n",
              "      <td>Autauga County</td>\n",
              "      <td>Alabama</td>\n",
              "      <td>2019-10-01</td>\n",
              "      <td>3.055843</td>\n",
              "      <td>1269.0</td>\n",
              "    </tr>\n",
              "    <tr>\n",
              "      <th>3</th>\n",
              "      <td>1001_2019-11-01</td>\n",
              "      <td>1001</td>\n",
              "      <td>Autauga County</td>\n",
              "      <td>Alabama</td>\n",
              "      <td>2019-11-01</td>\n",
              "      <td>2.993233</td>\n",
              "      <td>1243.0</td>\n",
              "    </tr>\n",
              "    <tr>\n",
              "      <th>4</th>\n",
              "      <td>1001_2019-12-01</td>\n",
              "      <td>1001</td>\n",
              "      <td>Autauga County</td>\n",
              "      <td>Alabama</td>\n",
              "      <td>2019-12-01</td>\n",
              "      <td>2.993233</td>\n",
              "      <td>1243.0</td>\n",
              "    </tr>\n",
              "  </tbody>\n",
              "</table>\n",
              "</div>\n",
              "      <button class=\"colab-df-convert\" onclick=\"convertToInteractive('df-2b13acb2-c5b1-40b5-a99c-2e425ea3825f')\"\n",
              "              title=\"Convert this dataframe to an interactive table.\"\n",
              "              style=\"display:none;\">\n",
              "        \n",
              "  <svg xmlns=\"http://www.w3.org/2000/svg\" height=\"24px\"viewBox=\"0 0 24 24\"\n",
              "       width=\"24px\">\n",
              "    <path d=\"M0 0h24v24H0V0z\" fill=\"none\"/>\n",
              "    <path d=\"M18.56 5.44l.94 2.06.94-2.06 2.06-.94-2.06-.94-.94-2.06-.94 2.06-2.06.94zm-11 1L8.5 8.5l.94-2.06 2.06-.94-2.06-.94L8.5 2.5l-.94 2.06-2.06.94zm10 10l.94 2.06.94-2.06 2.06-.94-2.06-.94-.94-2.06-.94 2.06-2.06.94z\"/><path d=\"M17.41 7.96l-1.37-1.37c-.4-.4-.92-.59-1.43-.59-.52 0-1.04.2-1.43.59L10.3 9.45l-7.72 7.72c-.78.78-.78 2.05 0 2.83L4 21.41c.39.39.9.59 1.41.59.51 0 1.02-.2 1.41-.59l7.78-7.78 2.81-2.81c.8-.78.8-2.07 0-2.86zM5.41 20L4 18.59l7.72-7.72 1.47 1.35L5.41 20z\"/>\n",
              "  </svg>\n",
              "      </button>\n",
              "      \n",
              "  <style>\n",
              "    .colab-df-container {\n",
              "      display:flex;\n",
              "      flex-wrap:wrap;\n",
              "      gap: 12px;\n",
              "    }\n",
              "\n",
              "    .colab-df-convert {\n",
              "      background-color: #E8F0FE;\n",
              "      border: none;\n",
              "      border-radius: 50%;\n",
              "      cursor: pointer;\n",
              "      display: none;\n",
              "      fill: #1967D2;\n",
              "      height: 32px;\n",
              "      padding: 0 0 0 0;\n",
              "      width: 32px;\n",
              "    }\n",
              "\n",
              "    .colab-df-convert:hover {\n",
              "      background-color: #E2EBFA;\n",
              "      box-shadow: 0px 1px 2px rgba(60, 64, 67, 0.3), 0px 1px 3px 1px rgba(60, 64, 67, 0.15);\n",
              "      fill: #174EA6;\n",
              "    }\n",
              "\n",
              "    [theme=dark] .colab-df-convert {\n",
              "      background-color: #3B4455;\n",
              "      fill: #D2E3FC;\n",
              "    }\n",
              "\n",
              "    [theme=dark] .colab-df-convert:hover {\n",
              "      background-color: #434B5C;\n",
              "      box-shadow: 0px 1px 3px 1px rgba(0, 0, 0, 0.15);\n",
              "      filter: drop-shadow(0px 1px 2px rgba(0, 0, 0, 0.3));\n",
              "      fill: #FFFFFF;\n",
              "    }\n",
              "  </style>\n",
              "\n",
              "      <script>\n",
              "        const buttonEl =\n",
              "          document.querySelector('#df-2b13acb2-c5b1-40b5-a99c-2e425ea3825f button.colab-df-convert');\n",
              "        buttonEl.style.display =\n",
              "          google.colab.kernel.accessAllowed ? 'block' : 'none';\n",
              "\n",
              "        async function convertToInteractive(key) {\n",
              "          const element = document.querySelector('#df-2b13acb2-c5b1-40b5-a99c-2e425ea3825f');\n",
              "          const dataTable =\n",
              "            await google.colab.kernel.invokeFunction('convertToInteractive',\n",
              "                                                     [key], {});\n",
              "          if (!dataTable) return;\n",
              "\n",
              "          const docLinkHtml = 'Like what you see? Visit the ' +\n",
              "            '<a target=\"_blank\" href=https://colab.research.google.com/notebooks/data_table.ipynb>data table notebook</a>'\n",
              "            + ' to learn more about interactive tables.';\n",
              "          element.innerHTML = '';\n",
              "          dataTable['output_type'] = 'display_data';\n",
              "          await google.colab.output.renderOutput(dataTable, element);\n",
              "          const docLink = document.createElement('div');\n",
              "          docLink.innerHTML = docLinkHtml;\n",
              "          element.appendChild(docLink);\n",
              "        }\n",
              "      </script>\n",
              "    </div>\n",
              "  </div>\n",
              "  "
            ]
          },
          "metadata": {},
          "execution_count": 3
        }
      ],
      "source": [
        "df_train.head()"
      ]
    },
    {
      "cell_type": "code",
      "execution_count": null,
      "id": "672989a7",
      "metadata": {
        "colab": {
          "base_uri": "https://localhost:8080/",
          "height": 394
        },
        "id": "672989a7",
        "outputId": "2eb00805-ebf4-4ee2-dfb3-5f3e1bbabad7"
      },
      "outputs": [
        {
          "output_type": "execute_result",
          "data": {
            "text/plain": [
              "                 row_id         cfips          county     state  \\\n",
              "count             14677  14677.000000           14677     14677   \n",
              "unique            14677           NaN             333        10   \n",
              "top     1001_2019-08-01           NaN  Jackson County  Arkansas   \n",
              "freq                  1           NaN             156      2925   \n",
              "mean                NaN   5989.711249             NaN       NaN   \n",
              "std                 NaN   3539.784900             NaN       NaN   \n",
              "min                 NaN   1001.000000             NaN       NaN   \n",
              "25%                 NaN   4001.000000             NaN       NaN   \n",
              "50%                 NaN   6009.000000             NaN       NaN   \n",
              "75%                 NaN   8079.000000             NaN       NaN   \n",
              "max                 NaN  12117.000000             NaN       NaN   \n",
              "\n",
              "       first_day_of_month  microbusiness_density        active  \n",
              "count               14677           14676.000000  1.467600e+04  \n",
              "unique                 40                    NaN           NaN  \n",
              "top            2019-08-01                    NaN           NaN  \n",
              "freq                  377                    NaN           NaN  \n",
              "mean                  NaN               5.380779  1.874729e+04  \n",
              "std                   NaN               6.017006  7.604775e+04  \n",
              "min                   NaN               0.247328  1.200000e+01  \n",
              "25%                   NaN               1.677686  1.750000e+02  \n",
              "50%                   NaN               3.474321  8.390000e+02  \n",
              "75%                   NaN               6.851778  8.044250e+03  \n",
              "max                   NaN              97.696014  1.167744e+06  "
            ],
            "text/html": [
              "\n",
              "  <div id=\"df-e7959b29-4cad-4f10-a609-2fa8ddfbc25b\">\n",
              "    <div class=\"colab-df-container\">\n",
              "      <div>\n",
              "<style scoped>\n",
              "    .dataframe tbody tr th:only-of-type {\n",
              "        vertical-align: middle;\n",
              "    }\n",
              "\n",
              "    .dataframe tbody tr th {\n",
              "        vertical-align: top;\n",
              "    }\n",
              "\n",
              "    .dataframe thead th {\n",
              "        text-align: right;\n",
              "    }\n",
              "</style>\n",
              "<table border=\"1\" class=\"dataframe\">\n",
              "  <thead>\n",
              "    <tr style=\"text-align: right;\">\n",
              "      <th></th>\n",
              "      <th>row_id</th>\n",
              "      <th>cfips</th>\n",
              "      <th>county</th>\n",
              "      <th>state</th>\n",
              "      <th>first_day_of_month</th>\n",
              "      <th>microbusiness_density</th>\n",
              "      <th>active</th>\n",
              "    </tr>\n",
              "  </thead>\n",
              "  <tbody>\n",
              "    <tr>\n",
              "      <th>count</th>\n",
              "      <td>14677</td>\n",
              "      <td>14677.000000</td>\n",
              "      <td>14677</td>\n",
              "      <td>14677</td>\n",
              "      <td>14677</td>\n",
              "      <td>14676.000000</td>\n",
              "      <td>1.467600e+04</td>\n",
              "    </tr>\n",
              "    <tr>\n",
              "      <th>unique</th>\n",
              "      <td>14677</td>\n",
              "      <td>NaN</td>\n",
              "      <td>333</td>\n",
              "      <td>10</td>\n",
              "      <td>40</td>\n",
              "      <td>NaN</td>\n",
              "      <td>NaN</td>\n",
              "    </tr>\n",
              "    <tr>\n",
              "      <th>top</th>\n",
              "      <td>1001_2019-08-01</td>\n",
              "      <td>NaN</td>\n",
              "      <td>Jackson County</td>\n",
              "      <td>Arkansas</td>\n",
              "      <td>2019-08-01</td>\n",
              "      <td>NaN</td>\n",
              "      <td>NaN</td>\n",
              "    </tr>\n",
              "    <tr>\n",
              "      <th>freq</th>\n",
              "      <td>1</td>\n",
              "      <td>NaN</td>\n",
              "      <td>156</td>\n",
              "      <td>2925</td>\n",
              "      <td>377</td>\n",
              "      <td>NaN</td>\n",
              "      <td>NaN</td>\n",
              "    </tr>\n",
              "    <tr>\n",
              "      <th>mean</th>\n",
              "      <td>NaN</td>\n",
              "      <td>5989.711249</td>\n",
              "      <td>NaN</td>\n",
              "      <td>NaN</td>\n",
              "      <td>NaN</td>\n",
              "      <td>5.380779</td>\n",
              "      <td>1.874729e+04</td>\n",
              "    </tr>\n",
              "    <tr>\n",
              "      <th>std</th>\n",
              "      <td>NaN</td>\n",
              "      <td>3539.784900</td>\n",
              "      <td>NaN</td>\n",
              "      <td>NaN</td>\n",
              "      <td>NaN</td>\n",
              "      <td>6.017006</td>\n",
              "      <td>7.604775e+04</td>\n",
              "    </tr>\n",
              "    <tr>\n",
              "      <th>min</th>\n",
              "      <td>NaN</td>\n",
              "      <td>1001.000000</td>\n",
              "      <td>NaN</td>\n",
              "      <td>NaN</td>\n",
              "      <td>NaN</td>\n",
              "      <td>0.247328</td>\n",
              "      <td>1.200000e+01</td>\n",
              "    </tr>\n",
              "    <tr>\n",
              "      <th>25%</th>\n",
              "      <td>NaN</td>\n",
              "      <td>4001.000000</td>\n",
              "      <td>NaN</td>\n",
              "      <td>NaN</td>\n",
              "      <td>NaN</td>\n",
              "      <td>1.677686</td>\n",
              "      <td>1.750000e+02</td>\n",
              "    </tr>\n",
              "    <tr>\n",
              "      <th>50%</th>\n",
              "      <td>NaN</td>\n",
              "      <td>6009.000000</td>\n",
              "      <td>NaN</td>\n",
              "      <td>NaN</td>\n",
              "      <td>NaN</td>\n",
              "      <td>3.474321</td>\n",
              "      <td>8.390000e+02</td>\n",
              "    </tr>\n",
              "    <tr>\n",
              "      <th>75%</th>\n",
              "      <td>NaN</td>\n",
              "      <td>8079.000000</td>\n",
              "      <td>NaN</td>\n",
              "      <td>NaN</td>\n",
              "      <td>NaN</td>\n",
              "      <td>6.851778</td>\n",
              "      <td>8.044250e+03</td>\n",
              "    </tr>\n",
              "    <tr>\n",
              "      <th>max</th>\n",
              "      <td>NaN</td>\n",
              "      <td>12117.000000</td>\n",
              "      <td>NaN</td>\n",
              "      <td>NaN</td>\n",
              "      <td>NaN</td>\n",
              "      <td>97.696014</td>\n",
              "      <td>1.167744e+06</td>\n",
              "    </tr>\n",
              "  </tbody>\n",
              "</table>\n",
              "</div>\n",
              "      <button class=\"colab-df-convert\" onclick=\"convertToInteractive('df-e7959b29-4cad-4f10-a609-2fa8ddfbc25b')\"\n",
              "              title=\"Convert this dataframe to an interactive table.\"\n",
              "              style=\"display:none;\">\n",
              "        \n",
              "  <svg xmlns=\"http://www.w3.org/2000/svg\" height=\"24px\"viewBox=\"0 0 24 24\"\n",
              "       width=\"24px\">\n",
              "    <path d=\"M0 0h24v24H0V0z\" fill=\"none\"/>\n",
              "    <path d=\"M18.56 5.44l.94 2.06.94-2.06 2.06-.94-2.06-.94-.94-2.06-.94 2.06-2.06.94zm-11 1L8.5 8.5l.94-2.06 2.06-.94-2.06-.94L8.5 2.5l-.94 2.06-2.06.94zm10 10l.94 2.06.94-2.06 2.06-.94-2.06-.94-.94-2.06-.94 2.06-2.06.94z\"/><path d=\"M17.41 7.96l-1.37-1.37c-.4-.4-.92-.59-1.43-.59-.52 0-1.04.2-1.43.59L10.3 9.45l-7.72 7.72c-.78.78-.78 2.05 0 2.83L4 21.41c.39.39.9.59 1.41.59.51 0 1.02-.2 1.41-.59l7.78-7.78 2.81-2.81c.8-.78.8-2.07 0-2.86zM5.41 20L4 18.59l7.72-7.72 1.47 1.35L5.41 20z\"/>\n",
              "  </svg>\n",
              "      </button>\n",
              "      \n",
              "  <style>\n",
              "    .colab-df-container {\n",
              "      display:flex;\n",
              "      flex-wrap:wrap;\n",
              "      gap: 12px;\n",
              "    }\n",
              "\n",
              "    .colab-df-convert {\n",
              "      background-color: #E8F0FE;\n",
              "      border: none;\n",
              "      border-radius: 50%;\n",
              "      cursor: pointer;\n",
              "      display: none;\n",
              "      fill: #1967D2;\n",
              "      height: 32px;\n",
              "      padding: 0 0 0 0;\n",
              "      width: 32px;\n",
              "    }\n",
              "\n",
              "    .colab-df-convert:hover {\n",
              "      background-color: #E2EBFA;\n",
              "      box-shadow: 0px 1px 2px rgba(60, 64, 67, 0.3), 0px 1px 3px 1px rgba(60, 64, 67, 0.15);\n",
              "      fill: #174EA6;\n",
              "    }\n",
              "\n",
              "    [theme=dark] .colab-df-convert {\n",
              "      background-color: #3B4455;\n",
              "      fill: #D2E3FC;\n",
              "    }\n",
              "\n",
              "    [theme=dark] .colab-df-convert:hover {\n",
              "      background-color: #434B5C;\n",
              "      box-shadow: 0px 1px 3px 1px rgba(0, 0, 0, 0.15);\n",
              "      filter: drop-shadow(0px 1px 2px rgba(0, 0, 0, 0.3));\n",
              "      fill: #FFFFFF;\n",
              "    }\n",
              "  </style>\n",
              "\n",
              "      <script>\n",
              "        const buttonEl =\n",
              "          document.querySelector('#df-e7959b29-4cad-4f10-a609-2fa8ddfbc25b button.colab-df-convert');\n",
              "        buttonEl.style.display =\n",
              "          google.colab.kernel.accessAllowed ? 'block' : 'none';\n",
              "\n",
              "        async function convertToInteractive(key) {\n",
              "          const element = document.querySelector('#df-e7959b29-4cad-4f10-a609-2fa8ddfbc25b');\n",
              "          const dataTable =\n",
              "            await google.colab.kernel.invokeFunction('convertToInteractive',\n",
              "                                                     [key], {});\n",
              "          if (!dataTable) return;\n",
              "\n",
              "          const docLinkHtml = 'Like what you see? Visit the ' +\n",
              "            '<a target=\"_blank\" href=https://colab.research.google.com/notebooks/data_table.ipynb>data table notebook</a>'\n",
              "            + ' to learn more about interactive tables.';\n",
              "          element.innerHTML = '';\n",
              "          dataTable['output_type'] = 'display_data';\n",
              "          await google.colab.output.renderOutput(dataTable, element);\n",
              "          const docLink = document.createElement('div');\n",
              "          docLink.innerHTML = docLinkHtml;\n",
              "          element.appendChild(docLink);\n",
              "        }\n",
              "      </script>\n",
              "    </div>\n",
              "  </div>\n",
              "  "
            ]
          },
          "metadata": {},
          "execution_count": 4
        }
      ],
      "source": [
        "df_train.describe(include = 'all')"
      ]
    },
    {
      "cell_type": "code",
      "execution_count": null,
      "id": "6ad9d518",
      "metadata": {
        "scrolled": true,
        "colab": {
          "base_uri": "https://localhost:8080/"
        },
        "id": "6ad9d518",
        "outputId": "92d790c1-1cc1-4da4-92c3-8c2fac6e8992"
      },
      "outputs": [
        {
          "output_type": "stream",
          "name": "stdout",
          "text": [
            "<class 'pandas.core.frame.DataFrame'>\n",
            "RangeIndex: 14677 entries, 0 to 14676\n",
            "Data columns (total 7 columns):\n",
            " #   Column                 Non-Null Count  Dtype  \n",
            "---  ------                 --------------  -----  \n",
            " 0   row_id                 14677 non-null  object \n",
            " 1   cfips                  14677 non-null  int64  \n",
            " 2   county                 14677 non-null  object \n",
            " 3   state                  14677 non-null  object \n",
            " 4   first_day_of_month     14677 non-null  object \n",
            " 5   microbusiness_density  14676 non-null  float64\n",
            " 6   active                 14676 non-null  float64\n",
            "dtypes: float64(2), int64(1), object(4)\n",
            "memory usage: 802.8+ KB\n"
          ]
        }
      ],
      "source": [
        "df_train.info()"
      ]
    },
    {
      "cell_type": "code",
      "execution_count": null,
      "id": "7806d291",
      "metadata": {
        "scrolled": true,
        "colab": {
          "base_uri": "https://localhost:8080/"
        },
        "id": "7806d291",
        "outputId": "92d49588-11d0-49b2-9a80-fbfbee061fa7"
      },
      "outputs": [
        {
          "output_type": "stream",
          "name": "stdout",
          "text": [
            "The unique values of cfips are: 377\n"
          ]
        }
      ],
      "source": [
        "print(f'The unique values of cfips are: {df_train.cfips.nunique()}')"
      ]
    },
    {
      "cell_type": "code",
      "execution_count": null,
      "id": "5c2a0610",
      "metadata": {
        "id": "5c2a0610"
      },
      "outputs": [],
      "source": [
        "def plot_cfips(cfips):\n",
        "    # getting data for cfips, resetign the index and ploting\n",
        "    df_train[df_train['cfips'] == cfips].reset_index().microbusiness_density.plot(\n",
        "                                                                    title='Microbusiness Density',\n",
        "                                                                    label=f'cfips: {cfips}', \n",
        "                                                                    legend = True,\n",
        "                                                                    style= '-',\n",
        "                                                                    xlabel = 'Date Range',\n",
        "                                                                    ylabel = 'Microbusiness Density')"
      ]
    },
    {
      "cell_type": "code",
      "execution_count": null,
      "id": "9ed41d1f",
      "metadata": {
        "colab": {
          "base_uri": "https://localhost:8080/",
          "height": 409
        },
        "id": "9ed41d1f",
        "outputId": "38c74bb7-c620-4f42-b105-d1982ab6228f"
      },
      "outputs": [
        {
          "output_type": "display_data",
          "data": {
            "text/plain": [
              "<Figure size 720x360 with 1 Axes>"
            ],
            "image/png": "[encoded data removed]"
          },
          "metadata": {}
        }
      ],
      "source": [
        "plt.figure(figsize= (10, 5))\n",
        "for i in range(10):\n",
        "    # ploting 10 random cfips\n",
        "    plot_cfips(np.random.choice(df_train.cfips.unique()))\n",
        "# ploting the mean business density of all cfips in the same date range\n",
        "df_train.groupby('first_day_of_month')['microbusiness_density'].mean().plot(label='mean',\n",
        "                                                                            style = '--',\n",
        "                                                                            legend = True)\n",
        "plt.xticks(rotation='vertical')\n",
        "plt.show()"
      ]
    },
    {
      "cell_type": "markdown",
      "id": "dbd834ac",
      "metadata": {
        "id": "dbd834ac"
      },
      "source": [
        "### Findings\n",
        "- The unique cfips number is 3135\n",
        "- For each cfips we have 39 months of data - first_day_of_month\n",
        "- The microbusiness density varies from 0.00 to 284.34 with a mean of 3.817 and standard deviation of 4.9\n",
        "- By analyzing the above graphs it seems like we'll have seperate model for each county"
      ]
    },
    {
      "cell_type": "markdown",
      "id": "2bd09531",
      "metadata": {
        "id": "2bd09531"
      },
      "source": [
        "## Feature Engineering"
      ]
    },
    {
      "cell_type": "code",
      "execution_count": null,
      "id": "edfccb42",
      "metadata": {
        "id": "edfccb42"
      },
      "outputs": [],
      "source": [
        "train_data = {\n",
        "    # create array of 39 values as the training dataset contain 39 months of data for each county\n",
        "    'x': np.arange(1, 40).reshape(-1, 1), \n",
        "    # organize the data group wise for each county and assign to mbd\n",
        "    'mbd' : df_train.sort_values(['first_day_of_month']).groupby('cfips')['microbusiness_density'].apply(lambda x: x.values)\n",
        "}\n",
        "\n",
        "# As we need to predict the next 8 months of data in the test file  \n",
        "test_data = np.arange(40, 48).reshape(-1, 1)"
      ]
    },
    {
      "cell_type": "code",
      "execution_count": null,
      "id": "97132efe",
      "metadata": {
        "scrolled": true,
        "id": "97132efe"
      },
      "outputs": [],
      "source": [
        "# train - test data splitting\n",
        "test_size = 8 # 8 months of data to be predicting\n",
        "total_size = train_data['mbd'].values[0].shape[0] # size of total months for unique cfips\n",
        "\n",
        "# training samples\n",
        "X_train = train_data['x'][-total_size:-test_size].reshape(-1, 1)\n",
        "y_train = train_data['mbd'].apply(lambda x: x[-total_size:-test_size])\n",
        "\n",
        "# test samples\n",
        "X_test = train_data['x'][-test_size:].reshape(-1, 1)\n",
        "y_test = train_data['mbd'].apply(lambda x: x[-test_size:])\n",
        "\n",
        "cfips_unique = df_train.cfips.unique()"
      ]
    },
    {
      "cell_type": "markdown",
      "id": "0d83d16d",
      "metadata": {
        "id": "0d83d16d"
      },
      "source": [
        "## Model Training"
      ]
    },
    {
      "cell_type": "code",
      "execution_count": null,
      "id": "ef3532a7",
      "metadata": {
        "id": "ef3532a7"
      },
      "outputs": [],
      "source": [
        "# initializing all the models\n",
        "linear_regression = LinearRegression()\n",
        "lasso = Lasso()\n",
        "ridge = Ridge()\n",
        "elastic_net = ElasticNet()\n",
        "multi_task_lasso = MultiTaskLasso()\n",
        "multi_task_elastic_net = MultiTaskElasticNet()\n",
        "bayesian_ridge = BayesianRidge()\n",
        "ard_regression = ARDRegression()\n",
        "ransac_regressor = RANSACRegressor()\n",
        "theil_sen_regressor = TheilSenRegressor()\n",
        "huber_regressor = HuberRegressor()\n",
        "passive_aggressive_regressor = PassiveAggressiveRegressor()\n",
        "logistic_regression_cv = LogisticRegressionCV()\n",
        "decision_tree_regressor = DecisionTreeRegressor()\n",
        "k_neighbors_regressor = KNeighborsRegressor()\n",
        "random_forest_regressor = RandomForestRegressor()\n",
        "gradient_boosting_regressor = GradientBoostingRegressor()\n",
        "ada_boost_regressor = AdaBoostRegressor()\n",
        "bagging_regressor = BaggingRegressor()\n",
        "svr = SVR()\n",
        "mlp_regressor = MLPRegressor()\n",
        "gaussian_process_regressor = GaussianProcessRegressor()\n",
        "xgb_model = xgb.XGBRegressor(objective='reg:squarederror')\n",
        "lgb = LGBMRegressor()\n",
        "cbr = CatBoostRegressor()\n",
        "\n",
        "regressors_list = [linear_regression, lasso, ridge, elastic_net, multi_task_lasso, \n",
        "                  multi_task_elastic_net, bayesian_ridge, ard_regression, \n",
        "                  ransac_regressor, theil_sen_regressor, huber_regressor, \n",
        "                  passive_aggressive_regressor, logistic_regression_cv, \n",
        "                  decision_tree_regressor, k_neighbors_regressor, random_forest_regressor,\n",
        "                  gradient_boosting_regressor, ada_boost_regressor, bagging_regressor,\n",
        "                  svr, mlp_regressor, gaussian_process_regressor, xgb_model, lgb, cbr]\n",
        "\n",
        "regressors_list.remove(random_forest_regressor)\n",
        "regressors_list.remove(multi_task_lasso)\n",
        "regressors_list.remove(multi_task_elastic_net)\n",
        "regressors_list.remove(logistic_regression_cv)"
      ]
    },
    {
      "cell_type": "code",
      "execution_count": null,
      "id": "00976629",
      "metadata": {
        "id": "00976629"
      },
      "outputs": [],
      "source": [
        "def calculate_smape(actual, predicted) -> float:\n",
        "  \n",
        "    # Convert actual and predicted to numpy\n",
        "    # array data type if not already\n",
        "    if not all([isinstance(actual, np.ndarray), \n",
        "                isinstance(predicted, np.ndarray)]):\n",
        "        actual, predicted = np.array(actual),\n",
        "        np.array(predicted)\n",
        "  \n",
        "    return round(\n",
        "        np.mean(\n",
        "            np.abs(predicted - actual) / \n",
        "            ((np.abs(predicted) + np.abs(actual))/2)\n",
        "        ), 2\n",
        "    )"
      ]
    },
    {
      "cell_type": "code",
      "execution_count": null,
      "id": "2437846b",
      "metadata": {
        "id": "2437846b"
      },
      "outputs": [],
      "source": [
        "def process(models, viz = False):\n",
        "    results = {}\n",
        "    for model in tqdm(models, desc = 'processing models: '):\n",
        "        smape_total = 0\n",
        "        for cfip in cfips_unique:\n",
        "            #print(model)\n",
        "            model.fit(X_train, y_train[cfip]) \n",
        "            y_pred = model.predict(X_test)\n",
        "            smape = calculate_smape(y_test[cfip], y_pred)\n",
        "            \n",
        "            smape_total +=smape\n",
        "\n",
        "            if viz:\n",
        "                plt.plot(train_data['x'], train_data['mbd'][cfip], label='train')\n",
        "                plt.plot(X_test, y_pred, label = 'predicted')\n",
        "                plt.legend()\n",
        "                plt.show()\n",
        "        results[model] = round((smape_total/len(cfips_unique)), 5)\n",
        "\n",
        "    return pd.DataFrame(results.values(), index = results.keys(), columns = ['smape'])    "
      ]
    },
    {
      "cell_type": "code",
      "execution_count": null,
      "id": "47409922",
      "metadata": {
        "id": "47409922"
      },
      "outputs": [],
      "source": [
        "process([gradient_boosting_regressor, xgb_model, lgb], False)"
      ]
    },
    {
      "cell_type": "code",
      "execution_count": null,
      "id": "6ea921d5",
      "metadata": {
        "id": "6ea921d5"
      },
      "outputs": [],
      "source": [
        "process(regressors_list, False)"
      ]
    },
    {
      "cell_type": "markdown",
      "id": "5ca00ae0",
      "metadata": {
        "id": "5ca00ae0"
      },
      "source": [
        "## Model Evaluaiton"
      ]
    },
    {
      "cell_type": "code",
      "execution_count": null,
      "id": "f9a7f741",
      "metadata": {
        "id": "f9a7f741"
      },
      "outputs": [],
      "source": [
        "# By evaluating different models with smape the following models give better results\n",
        "#svr, HuberRegressor, ARDRegression, BayesianRidge, ElasticNet, Ridge, Lasso, gradient_boosting_regressor"
      ]
    },
    {
      "cell_type": "markdown",
      "id": "03be0925",
      "metadata": {
        "id": "03be0925"
      },
      "source": [
        "## Model optimization"
      ]
    },
    {
      "cell_type": "markdown",
      "id": "6db841c3",
      "metadata": {
        "id": "6db841c3"
      },
      "source": [
        "### Combining models"
      ]
    },
    {
      "cell_type": "code",
      "execution_count": null,
      "id": "648115f8",
      "metadata": {
        "id": "648115f8"
      },
      "outputs": [],
      "source": [
        "models = [('svr', svr), ('huber', huber_regressor), ('ard', ard_regression), ('bayesian', bayesian_ridge),\n",
        "        ('elastic_net', elastic_net), ('ridge', ridge), ('lasso', lasso), ('gbr', gradient_boosting_regressor)]"
      ]
    },
    {
      "cell_type": "markdown",
      "id": "166a8f39",
      "metadata": {
        "id": "166a8f39"
      },
      "source": [
        "### Voting\n",
        "First train individual model in the list. Then we store these models in a list and pass it to the VotingRegressor class. This class will take average of predictions of all the models in the list. Finally, we fit the ensemble to the training data and use it to make predictions on the test data."
      ]
    },
    {
      "cell_type": "code",
      "execution_count": null,
      "id": "39547494",
      "metadata": {
        "scrolled": false,
        "id": "39547494",
        "outputId": "c7d7e704-24be-4433-d6a8-8346c010f095"
      },
      "outputs": [
        {
          "name": "stderr",
          "output_type": "stream",
          "text": [
            "Processing cfips: 100%|█████████████████████| 3135/3135 [01:42<00:00, 30.64it/s]"
          ]
        },
        {
          "name": "stdout",
          "output_type": "stream",
          "text": [
            "0.05928\n"
          ]
        },
        {
          "name": "stderr",
          "output_type": "stream",
          "text": [
            "\n"
          ]
        }
      ],
      "source": [
        "ensemble = VotingRegressor(models)\n",
        "smape_total = 0\n",
        "for cfip in tqdm(cfips_unique, desc = 'Processing cfips: '):\n",
        "    ensemble.fit(X_train, y_train[cfip]) \n",
        "    y_pred = ensemble.predict(X_test)\n",
        "    smape = calculate_smape(y_test[cfip], y_pred)\n",
        "\n",
        "    smape_total +=smape\n",
        "\n",
        "    if viz:\n",
        "        plt.plot(train_data['x'], train_data['mbd'][cfip], label='train')\n",
        "        plt.plot(X_test, y_pred, label = 'predicted')\n",
        "        plt.legend()\n",
        "        plt.show()\n",
        "results = round((smape_total/len(cfips_unique)), 5)\n",
        "print(results)"
      ]
    },
    {
      "cell_type": "markdown",
      "id": "797e68b2",
      "metadata": {
        "id": "797e68b2"
      },
      "source": [
        "### Stacking\n",
        "The StackingRegressor class use the predictions of all the models in the list as inputs to the final estimator to make the final prediction. Finally, we fit the ensemble to the training data and use it to make predictions on the test data."
      ]
    },
    {
      "cell_type": "code",
      "execution_count": null,
      "id": "dfeb9c9a",
      "metadata": {
        "scrolled": true,
        "id": "dfeb9c9a",
        "outputId": "9d3430b2-66c0-4ae7-c07f-578505927a09"
      },
      "outputs": [
        {
          "name": "stderr",
          "output_type": "stream",
          "text": [
            "Processing cfips: 100%|█████████████████████| 3135/3135 [10:28<00:00,  4.99it/s]"
          ]
        },
        {
          "name": "stdout",
          "output_type": "stream",
          "text": [
            "0.1808\n"
          ]
        },
        {
          "name": "stderr",
          "output_type": "stream",
          "text": [
            "\n"
          ]
        }
      ],
      "source": [
        "ensemble = StackingRegressor(estimators=models, final_estimator=LinearRegression())\n",
        "smape_total = 0\n",
        "for cfip in tqdm(cfips_unique, desc = 'Processing cfips: '):\n",
        "    ensemble.fit(X_train, y_train[cfip]) \n",
        "    y_pred = ensemble.predict(X_test)\n",
        "    smape = calculate_smape(y_test[cfip], y_pred)\n",
        "\n",
        "    smape_total +=smape\n",
        "\n",
        "    if viz:\n",
        "        plt.plot(train_data['x'], train_data['mbd'][cfip], label='train')\n",
        "        plt.plot(X_test, y_pred, label = 'predicted')\n",
        "        plt.legend()\n",
        "        plt.show()\n",
        "results = round((smape_total/len(cfips_unique)), 5)\n",
        "print(results)"
      ]
    },
    {
      "cell_type": "markdown",
      "id": "4e26f4a0",
      "metadata": {
        "id": "4e26f4a0"
      },
      "source": [
        "### Blending\n",
        "Here, we first train individual models for SVR, HuberRegressor, ARDRegression, BayesianRidge, ElasticNet, Ridge, Lasso on the training data. Then we make predictions on the test data for each of the models. Finally, we combine the predictions by taking a weighted average of the predictions of all models. The weight can be determined by you, and you can use different weighting scheme and check the performance on the test set."
      ]
    },
    {
      "cell_type": "code",
      "execution_count": null,
      "id": "4e5aa445",
      "metadata": {
        "scrolled": false,
        "id": "4e5aa445",
        "outputId": "a8f7e4f9-b3ea-4f90-b445-f6709ab73349"
      },
      "outputs": [
        {
          "name": "stderr",
          "output_type": "stream",
          "text": [
            "Processing cfips: 100%|█████████████████████| 3135/3135 [01:35<00:00, 32.86it/s]"
          ]
        },
        {
          "name": "stdout",
          "output_type": "stream",
          "text": [
            "0.04424\n"
          ]
        },
        {
          "name": "stderr",
          "output_type": "stream",
          "text": [
            "\n"
          ]
        }
      ],
      "source": [
        "smape_total = 0\n",
        "for cfip in tqdm(cfips_unique, desc = 'Processing cfips: '):\n",
        "    \n",
        "    # Fit individual models to the training data\n",
        "    svr.fit(X_train, y_train[cfip]) \n",
        "    huber_regressor.fit(X_train, y_train[cfip]) \n",
        "    ard_regression.fit(X_train, y_train[cfip]) \n",
        "    bayesian_ridge.fit(X_train, y_train[cfip]) \n",
        "    elastic_net.fit(X_train, y_train[cfip]) \n",
        "    ridge.fit(X_train, y_train[cfip]) \n",
        "    lasso.fit(X_train, y_train[cfip]) \n",
        "    gradient_boosting_regressor.fit(X_train, y_train[cfip]) \n",
        "    \n",
        "\n",
        "    # Make predictions on the test data\n",
        "    svr_pred = svr.predict(X_test)\n",
        "    huber_pred = huber_regressor.predict(X_test)\n",
        "    ard_pred = ard_regression.predict(X_test)\n",
        "    bayesian_pred = bayesian_ridge.predict(X_test)\n",
        "    elastic_net_pred = elastic_net.predict(X_test)\n",
        "    ridge_pred = ridge.predict(X_test)\n",
        "    lasso_pred = lasso.predict(X_test)\n",
        "    gbr_pred = gradient_boosting_regressor.predict(X_test)\n",
        "    \n",
        "    # Combine the predictions using a weighted average\n",
        "    weights = [0.3, 0.,  0.1, 0., 0.,  0.1, 0.,  0.5]\n",
        "    #weights = [0.1, 0.1, 0.1, 0.1, 0.1, 0.1, 0.1, 0.3]\n",
        "    final_pred = weights[0]*svr_pred + weights[1]*huber_pred \\\n",
        "    + weights[2]*ard_pred + weights[3]*bayesian_pred + weights[4]*elastic_net_pred \\\n",
        "    + weights[5]*ridge_pred + weights[6]*lasso_pred + weights[7]*gbr_pred\n",
        "    \n",
        "    smape = calculate_smape(y_test[cfip], final_pred)\n",
        "\n",
        "    smape_total +=smape\n",
        "\n",
        "    if viz:\n",
        "        plt.plot(train_data['x'], train_data['mbd'][cfip], label='train')\n",
        "        plt.plot(X_test, y_pred, label = 'predicted')\n",
        "        plt.legend()\n",
        "        plt.show()\n",
        "results = round((smape_total/len(cfips_unique)), 5)\n",
        "print(results)"
      ]
    },
    {
      "cell_type": "markdown",
      "id": "26f8e156",
      "metadata": {
        "id": "26f8e156"
      },
      "source": [
        "#### Hyperparameter tuning - GrisSearch Cross Validation"
      ]
    },
    {
      "cell_type": "code",
      "execution_count": null,
      "id": "171f151e",
      "metadata": {
        "id": "171f151e"
      },
      "outputs": [],
      "source": [
        "# Define the parameter grid for the weighting scheme\n",
        "param_grid = {'weights': [np.array([w1, w2, w3, w4, w5, w6, w7, w8])\\\n",
        "                          for w1 in np.arange(0, 1.1, 0.1) \\\n",
        "                          for w2 in np.arange(0, 1.1, 0.1) \\\n",
        "                          for w3 in np.arange(0, 1.1, 0.1) \\\n",
        "                          for w4 in np.arange(0, 1.1, 0.1) \\\n",
        "                          for w5 in np.arange(0, 1.1, 0.1) \\\n",
        "                          for w6 in np.arange(0, 1.1, 0.1) \\\n",
        "                          for w7 in np.arange(0, 1.1, 0.1) \\\n",
        "                          for w8 in np.arange(0, 1.1, 0.1) if sum([w1, w2, w3, w4, w5, w6, w7, w8]) == 1]}\n",
        "\n",
        "# Create a KFold cross-validator\n",
        "cv = KFold(n_splits=4, shuffle=True, random_state=42)"
      ]
    },
    {
      "cell_type": "code",
      "execution_count": null,
      "id": "2738a67b",
      "metadata": {
        "id": "2738a67b"
      },
      "outputs": [],
      "source": [
        "import random\n",
        "param_grid_n = {}\n",
        "param_grid_n['weights'] = random.sample(param_grid['weights'], 20) # get 20 randomly due to plenty of combinations"
      ]
    },
    {
      "cell_type": "code",
      "execution_count": null,
      "id": "6f82cff4",
      "metadata": {
        "id": "6f82cff4"
      },
      "outputs": [],
      "source": [
        "# models with having better smape score relatively\n",
        "models = [('svr', svr), ('huber', huber_regressor), ('ard', ard_regression), ('bayesian', bayesian_ridge),\n",
        "        ('elastic_net', elastic_net), ('ridge', ridge), ('lasso', lasso), ('gbr', gradient_boosting_regressor)]\n",
        "# get models only\n",
        "model_list = []\n",
        "for i in models:\n",
        "    model_list.append(i[1])"
      ]
    },
    {
      "cell_type": "code",
      "execution_count": null,
      "id": "b77e0a09",
      "metadata": {
        "id": "b77e0a09"
      },
      "outputs": [],
      "source": [
        "class Blender:\n",
        "    def __init__(self, models, weights):\n",
        "        self.models = models\n",
        "        self.weights = weights\n",
        "\n",
        "    def fit(self, X, y):\n",
        "        for model in self.models:\n",
        "            model.fit(X, y)\n",
        "\n",
        "    def predict(self, X):\n",
        "        predictions = [model.predict(X) for model in self.models]\n",
        "        return np.average(predictions, axis=0, weights=self.weights)\n",
        "\n",
        "    def get_params(self, deep=True):\n",
        "        return {'models': self.models, 'weights': self.weights}\n",
        "    \n",
        "    def set_params(self, **parameters):\n",
        "        for parameter, value in parameters.items():\n",
        "            setattr(self, parameter, value)\n",
        "        return self\n",
        "\n",
        "\n",
        "# Create the blender object with the individual models and the initial weighting scheme\n",
        "blender = Blender(models = [SVR(),\n",
        " HuberRegressor(),\n",
        " ARDRegression(),\n",
        " BayesianRidge(),\n",
        " ElasticNet(),\n",
        " Ridge(),\n",
        " Lasso(),\n",
        " GradientBoostingRegressor()], weights=[0.1, 0.1, 0.1, 0.1, 0.1, 0.1, 0.1, 0.1])"
      ]
    },
    {
      "cell_type": "code",
      "execution_count": null,
      "id": "341949f8",
      "metadata": {
        "scrolled": true,
        "id": "341949f8",
        "outputId": "6c34db51-5bcf-419b-bfba-816f3bf4ad79"
      },
      "outputs": [
        {
          "name": "stderr",
          "output_type": "stream",
          "text": [
            "Processing cfips: 100%|█████████████████████████| 10/10 [00:24<00:00,  2.50s/it]"
          ]
        },
        {
          "name": "stdout",
          "output_type": "stream",
          "text": [
            "0.0002\n"
          ]
        },
        {
          "name": "stderr",
          "output_type": "stream",
          "text": [
            "\n"
          ]
        }
      ],
      "source": [
        "smape_total = 0\n",
        "# Create a KFold cross-validator\n",
        "cv = KFold(n_splits=4, shuffle=False)\n",
        "# Define a function to combine the predictions using a weighted average\n",
        "def blended_predictions(weights):\n",
        "    return np.average(predictions, axis=0, weights=weights)\n",
        "\n",
        "for cfip in tqdm(cfips_unique[:10], desc = 'Processing cfips: '):\n",
        "    \n",
        "    # Fit individual models to the training data\n",
        "    svr.fit(X_train, y_train[cfip]) \n",
        "    huber_regressor.fit(X_train, y_train[cfip]) \n",
        "    ard_regression.fit(X_train, y_train[cfip]) \n",
        "    bayesian_ridge.fit(X_train, y_train[cfip]) \n",
        "    elastic_net.fit(X_train, y_train[cfip]) \n",
        "    ridge.fit(X_train, y_train[cfip]) \n",
        "    lasso.fit(X_train, y_train[cfip]) \n",
        "    gradient_boosting_regressor.fit(X_train, y_train[cfip]) \n",
        "    \n",
        "\n",
        "    # Make predictions on the test data\n",
        "    svr_pred = svr.predict(X_test)\n",
        "    huber_pred = huber_regressor.predict(X_test)\n",
        "    ard_pred = ard_regression.predict(X_test)\n",
        "    bayesian_pred = bayesian_ridge.predict(X_test)\n",
        "    elastic_net_pred = elastic_net.predict(X_test)\n",
        "    ridge_pred = ridge.predict(X_test)\n",
        "    lasso_pred = lasso.predict(X_test)\n",
        "    gbr_pred = gradient_boosting_regressor.predict(X_test)\n",
        "    \n",
        "    # Grid Search: \n",
        "    predictions = [svr_pred, huber_pred, ard_pred, bayesian_pred, elastic_net_pred, ridge_pred, lasso_pred, gbr_pred]\n",
        "    \n",
        "    # Create a GridSearchCV object\n",
        "    grid_search = GridSearchCV(estimator=blender, param_grid=param_grid_n, cv=cv, scoring='neg_mean_squared_error')\n",
        "\n",
        "    # Fit the GridSearchCV object to the data\n",
        "    grid_search.fit(X_train, y_train[cfip]) \n",
        "\n",
        "    # Use the best parameters to make predictions on the test data\n",
        "    best_weights = grid_search.best_params_['weights']\n",
        "    final_pred = blended_predictions(best_weights)\n",
        "    \n",
        "    #print(best_weights)\n",
        "\n",
        "    smape = calculate_smape(y_test[cfip], final_pred)\n",
        "\n",
        "    smape_total +=smape\n",
        "\n",
        "    if viz:\n",
        "        plt.plot(train_data['x'], train_data['mbd'][cfip], label='train')\n",
        "        plt.plot(X_test, y_pred, label = 'predicted')\n",
        "        plt.legend()\n",
        "        plt.show()\n",
        "results = round((smape_total/len(cfips_unique)), 5)\n",
        "print(results)"
      ]
    },
    {
      "cell_type": "markdown",
      "id": "2a3c3eb3",
      "metadata": {
        "id": "2a3c3eb3"
      },
      "source": [
        "### Gradient Boosting Regression - Hyperparameter tunning"
      ]
    },
    {
      "cell_type": "code",
      "execution_count": null,
      "id": "fb688bdc",
      "metadata": {
        "id": "fb688bdc",
        "outputId": "44f20fca-5120-4a45-97af-3b3f02b6a8e3"
      },
      "outputs": [
        {
          "data": {
            "text/plain": [
              "{'alpha': 0.9,\n",
              " 'ccp_alpha': 0.0,\n",
              " 'criterion': 'friedman_mse',\n",
              " 'init': None,\n",
              " 'learning_rate': 0.1,\n",
              " 'loss': 'squared_error',\n",
              " 'max_depth': 3,\n",
              " 'max_features': None,\n",
              " 'max_leaf_nodes': None,\n",
              " 'min_impurity_decrease': 0.0,\n",
              " 'min_samples_leaf': 1,\n",
              " 'min_samples_split': 2,\n",
              " 'min_weight_fraction_leaf': 0.0,\n",
              " 'n_estimators': 100,\n",
              " 'n_iter_no_change': None,\n",
              " 'random_state': None,\n",
              " 'subsample': 1.0,\n",
              " 'tol': 0.0001,\n",
              " 'validation_fraction': 0.1,\n",
              " 'verbose': 0,\n",
              " 'warm_start': False}"
            ]
          },
          "execution_count": 286,
          "metadata": {},
          "output_type": "execute_result"
        }
      ],
      "source": [
        "GradientBoostingRegressor().get_params()"
      ]
    },
    {
      "cell_type": "code",
      "execution_count": null,
      "id": "e59f6b3e",
      "metadata": {
        "scrolled": true,
        "id": "e59f6b3e",
        "outputId": "8ba76700-2bc9-4e71-b8f9-28d2e2390a11"
      },
      "outputs": [
        {
          "name": "stderr",
          "output_type": "stream",
          "text": [
            "Processing cfips: 100%|█████████████████████| 3135/3135 [02:18<00:00, 22.69it/s]"
          ]
        },
        {
          "name": "stdout",
          "output_type": "stream",
          "text": [
            "nan\n"
          ]
        },
        {
          "name": "stderr",
          "output_type": "stream",
          "text": [
            "\n"
          ]
        }
      ],
      "source": [
        "gbr = GradientBoostingRegressor(n_estimators= 250, learning_rate = 1, max_depth = 5)  #0.03715\n",
        "smape_total = 0\n",
        "for cfip in tqdm(cfips_unique, desc = f'Processing cfips: '):\n",
        "    \n",
        "    # Fit the GridSearchCV object to the data\n",
        "    gbr.fit(X_train, y_train[cfip]) \n",
        "    \n",
        "    # Make predictions\n",
        "    y_pred = gbr.predict(X_test)\n",
        "\n",
        "    smape = calculate_smape(y_test[cfip], y_pred)\n",
        "\n",
        "    smape_total +=smape\n",
        "results = round((smape_total/len(cfips_unique)), 5)\n",
        "print(results)"
      ]
    },
    {
      "cell_type": "code",
      "execution_count": null,
      "id": "c8b9ebd7",
      "metadata": {
        "scrolled": false,
        "id": "c8b9ebd7"
      },
      "outputs": [],
      "source": [
        "gbr = GradientBoostingRegressor()\n",
        "smape_total = 0\n",
        "\n",
        "# Define the parameter grid for the grid search\n",
        "param_grid = {'n_estimators': [100, 250, 500],\n",
        "              'learning_rate': [0.1, 0.01, 0.001],\n",
        "              'max_depth': [3, 4, 5],\n",
        "              'min_samples_split': [2, 4, 6],\n",
        "              'min_samples_leaf': [1, 2, 4]}\n",
        "\n",
        "\n",
        "for cfip in tqdm(cfips_unique, desc = f'Processing cfips: '):\n",
        "    \n",
        "    # Create a GridSearchCV object\n",
        "    grid_search = GridSearchCV(gbr, param_grid, cv=4, n_jobs=-1)\n",
        "\n",
        "    # Fit the GridSearchCV object to the data\n",
        "    grid_search.fit(X_train, y_train[cfip]) \n",
        "    \n",
        "    # Use the best hyperparameters to train a new GradientBoostingRegressor model\n",
        "    best_gbr = GradientBoostingRegressor(**grid_search.best_params_)\n",
        "    best_gbr.fit(X_train, y_train[cfip]) \n",
        "    \n",
        "\n",
        "    # Make predictions\n",
        "    y_pred = best_gbr.predict(X_test)\n",
        "\n",
        "    smape = calculate_smape(y_test[cfip], y_pred)\n",
        "\n",
        "    smape_total +=smape\n",
        "        \n",
        "    # training on all data and predicting\n",
        "    best_gbr.fit(train_data['x'], train_data['mbd'][cfip]) \n",
        "    y_pred = best_gbr.predict(test_data)\n",
        "    \n",
        "    # adding the predicted data to test file \n",
        "    df_test.loc[df_test['cfips'] == cfip, 'microbusiness_density'] = y_pred\n",
        "    \n",
        "    \n",
        "\n",
        "results = round((smape_total/len(cfips_unique)), 5)\n",
        "print(results)\n",
        "\n",
        "# Create submission DataFrame with row_id and microbusiness_density columns from df_test\n",
        "df_submission = df_test[['row_id', 'microbusiness_density']]\n",
        "\n",
        "# Save submission DataFrame to CSV file\n",
        "df_submission.to_csv('submission_17.csv', index = False)\n"
      ]
    },
    {
      "cell_type": "markdown",
      "id": "3af1cf45",
      "metadata": {
        "id": "3af1cf45"
      },
      "source": [
        "## Finalizing the model"
      ]
    },
    {
      "cell_type": "code",
      "execution_count": null,
      "id": "449af582",
      "metadata": {
        "id": "449af582",
        "outputId": "4b546055-8070-43c0-dce6-c63055717ba6"
      },
      "outputs": [
        {
          "name": "stderr",
          "output_type": "stream",
          "text": [
            "Processing cfips: 100%|█████████████████████| 3135/3135 [01:43<00:00, 30.29it/s]\n"
          ]
        }
      ],
      "source": [
        "ensemble = VotingRegressor(models)\n",
        "for cfip in tqdm(cfips_unique, desc = 'Processing cfips: '):\n",
        "    ensemble.fit(train_data['x'], train_data['mbd'][cfip]) \n",
        "    y_pred = ensemble.predict(test_data)\n",
        "    \n",
        "    # adding the predicted data to test file \n",
        "    df_test.loc[df_test['cfips'] == cfip, 'microbusiness_density'] = y_pred\n",
        "    \n",
        "\n",
        "    if viz:\n",
        "        plt.plot(train_data['x'], train_data['mbd'][cfip], label='train')\n",
        "        plt.plot(test_data, y_pred, label = 'predicted')\n",
        "        plt.legend()\n",
        "        plt.show()\n",
        "        \n",
        "# Create submission DataFrame with row_id and microbusiness_density columns from df_test\n",
        "df_submission = df_test[['row_id', 'microbusiness_density']]\n",
        "\n",
        "# Save submission DataFrame to CSV file\n",
        "df_submission.to_csv('submission_13.csv', index = False)"
      ]
    },
    {
      "cell_type": "code",
      "execution_count": null,
      "id": "a46bf44e",
      "metadata": {
        "id": "a46bf44e",
        "outputId": "5c7ef74f-7641-4df6-e97a-2a93244674be"
      },
      "outputs": [
        {
          "name": "stderr",
          "output_type": "stream",
          "text": [
            "Processing cfips: 100%|█████████████████████| 3135/3135 [01:02<00:00, 50.53it/s]\n"
          ]
        }
      ],
      "source": [
        "ensemble = GradientBoostingRegressor()\n",
        "for cfip in tqdm(cfips_unique, desc = 'Processing cfips: '):\n",
        "    ensemble.fit(train_data['x'], train_data['mbd'][cfip]) \n",
        "    y_pred = ensemble.predict(test_data)\n",
        "    \n",
        "    # adding the predicted data to test file \n",
        "    df_test.loc[df_test['cfips'] == cfip, 'microbusiness_density'] = y_pred\n",
        "    \n",
        "\n",
        "    if viz:\n",
        "        plt.plot(train_data['x'], train_data['mbd'][cfip], label='train')\n",
        "        plt.plot(test_data, y_pred, label = 'predicted')\n",
        "        plt.legend()\n",
        "        plt.show()\n",
        "        \n",
        "# Create submission DataFrame with row_id and microbusiness_density columns from df_test\n",
        "df_submission = df_test[['row_id', 'microbusiness_density']]\n",
        "\n",
        "# Save submission DataFrame to CSV file\n",
        "df_submission.to_csv('submission_15.csv', index = False)"
      ]
    },
    {
      "cell_type": "markdown",
      "id": "b52cc3f0",
      "metadata": {
        "id": "b52cc3f0"
      },
      "source": [
        "## Summary & Conclusion\n",
        "---\n",
        "**Summary:**\n",
        "In this project, I participated in the GoDaddy Microbusiness Density Forecasting competition. The challenge was to forecast the density of microbusinesses across US counties using other economic indicators. Microbusinesses are often too small or new to be included in traditional economic data sources. I created a machine learning model that leveraged various economic indicators to predict microbusiness activity across the US. I used data available before the submission period ended to create a static forecast, and my model was evaluated on the data gathered after the submission period. My model achieved a reasonable good stats on the leaderboard.\n",
        "\n",
        "**Conclusion:**\n",
        "The GoDaddy Microbusiness Density Forecasting competition presented a unique and exciting challenge for me to develop innovative machine learning models and techniques to forecast microbusiness activity. Through this project, I gained valuable experience in working with economic data and designing machine learning models that can leverage this data to make predictions. The ability to accurately forecast microbusiness activity is crucial for businesses and policymakers to make informed decisions about economic growth and development. This project has helped me develop skills that I can apply to future projects and contribute to the broader field of data science. Overall, It was a great experience participation in this competition.\n",
        "\n",
        "\n",
        "\n",
        "\n"
      ]
    }
  ],
  "metadata": {
    "kernelspec": {
      "display_name": "Python 3 (ipykernel)",
      "language": "python",
      "name": "python3"
    },
    "language_info": {
      "codemirror_mode": {
        "name": "ipython",
        "version": 3
      },
      "file_extension": ".py",
      "mimetype": "text/x-python",
      "name": "python",
      "nbconvert_exporter": "python",
      "pygments_lexer": "ipython3",
      "version": "3.9.13"
    },
    "colab": {
      "provenance": []
    }
  },
  "nbformat": 4,
  "nbformat_minor": 5
}